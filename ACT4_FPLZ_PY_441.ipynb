{
  "nbformat": 4,
  "nbformat_minor": 0,
  "metadata": {
    "colab": {
      "provenance": [],
      "authorship_tag": "ABX9TyOk6ypBdNvdxfWaNmVFMiCu",
      "include_colab_link": true
    },
    "kernelspec": {
      "name": "python3",
      "display_name": "Python 3"
    },
    "language_info": {
      "name": "python"
    }
  },
  "cells": [
    {
      "cell_type": "markdown",
      "metadata": {
        "id": "view-in-github",
        "colab_type": "text"
      },
      "source": [
        "<a href=\"https://colab.research.google.com/github/ZahirFelixx/codigos_python_2024/blob/main/ACT4_FPLZ_PY_441.ipynb\" target=\"_parent\"><img src=\"https://colab.research.google.com/assets/colab-badge.svg\" alt=\"Open In Colab\"/></a>"
      ]
    },
    {
      "cell_type": "markdown",
      "source": [
        "# ACTIVIDAD 4\n",
        "\n",
        "Ejercicio 1\n",
        "1.- Programa en python   que lea 3 calificaciones calcule el promedio del alumno y desplegar:\n",
        "\n",
        "Si prom < 30 Repetir\n",
        "\n",
        "Si prom >=30 y prom <60 extraordinario\n",
        "\n",
        "Si prom >=60 y prom <70 suficiente\n",
        "\n",
        "Si prom >=70 y prom <80 Regular\n",
        "\n",
        "Si prom >=80 y prom <90 bien\n",
        "\n",
        "Si prom >=90 y prom <98 muy bien\n",
        "\n",
        "Si prom >=98 y prom <=100 excelente\n",
        "\n",
        "Si prom >100 Error en promedio\n",
        "\n",
        "Realizar el algoritmo optimizado"
      ],
      "metadata": {
        "id": "iYKZSI37cA76"
      }
    },
    {
      "cell_type": "code",
      "execution_count": 1,
      "metadata": {
        "colab": {
          "base_uri": "https://localhost:8080/"
        },
        "id": "owGNe8f-aRYY",
        "outputId": "45a0a86c-a830-4443-d9e3-8046a8328098"
      },
      "outputs": [
        {
          "output_type": "stream",
          "name": "stdout",
          "text": [
            "\n",
            "Ingresa la calificación del primer parcial:\n",
            "45\n",
            "\n",
            "Ingresa la calificación del segundo parcial:\n",
            "100\n",
            "\n",
            "Ingresa la calificación del tercer parcial:\n",
            "78\n",
            "\n",
            "Regular: 74.33\n",
            "\n"
          ]
        }
      ],
      "source": [
        "#Felix Peraza Luis Zahir 369453\n",
        "#26/02/24\n",
        "#Programa de calificaciones optimizado\n",
        "#arbol\n",
        "\n",
        "calf1 = float(input(\"\\nIngresa la calificación del primer parcial:\\n\"))\n",
        "calf2 = float(input(\"\\nIngresa la calificación del segundo parcial:\\n\"))\n",
        "calf3 = float(input(\"\\nIngresa la calificación del tercer parcial:\\n\"))\n",
        "\n",
        "prom = (calf1 + calf2 + calf3) / 3\n",
        "\n",
        "if prom >= 80:\n",
        "    if prom >= 98:\n",
        "        if prom > 100:\n",
        "            print(\"\\nError: {:.2f}\\n\".format(prom))\n",
        "        else:\n",
        "            print(\"\\nExcelente: {:.2f}\\n\".format(prom))\n",
        "    else:\n",
        "        if prom >= 90:\n",
        "            print(\"\\nMuy bien: {:.2f}\\n\".format(prom))\n",
        "        else:\n",
        "            print(\"\\nBien: {:.2f}\\n\".format(prom))\n",
        "else:\n",
        "    if prom >= 60:\n",
        "        if prom >= 70:\n",
        "            print(\"\\nRegular: {:.2f}\\n\".format(prom))\n",
        "        else:\n",
        "            print(\"\\nSuficiente: {:.2f}\\n\".format(prom))\n",
        "    else:\n",
        "        if prom >= 30:\n",
        "            print(\"\\nExtraordinario: {:.2f}\\n\".format(prom))\n",
        "        else:\n",
        "            print(\"\\nRepetir: {:.2f}\\n\".format(prom))"
      ]
    },
    {
      "cell_type": "markdown",
      "source": [
        "2.- Programa en Python que sirva para calcular el salario semanal de un trabajador donde se obtiene como dato de entrada las horas semanales trabajadas, el salario por hora.\n",
        "\n",
        "El programa deberá calcular el salario normal, salario extra y salario total, considerando lo siguiente:\n",
        "\n",
        "Jornada Normal de 40 horas.\n",
        "El salario normal se considera las horas trabajadas menores o igual a la jornada normal\n",
        "Salario extra se considera las horas trabajadas mayores a la jornada normal y se pagan dobles las primeras 9 y triples a partir de la décima hora extra\n",
        "\n",
        "\n",
        "Nota: Desplegar todos los datos (Salario x hora, Horas Trabajadas, Salario normal, Salario extra y Salario Total)\n"
      ],
      "metadata": {
        "id": "8nNkSnyRcQBf"
      }
    },
    {
      "cell_type": "code",
      "source": [
        "# Felix Peraza Luis Zahir 369453\n",
        "# 26/02/24\n",
        "# Algoritmo que sirva para calcular el salario minimo semanal de un trabajador\n",
        "# Salario minimo\n",
        "\n",
        "# Entrada de datos para saber las horas trabajadas y cuanto vale la hora\n",
        "h_work = float(input(\"\\n¿Cuantas horas trabajo en su jornada? \"))\n",
        "salario_hora = float(input(\"\\n¿Cual es el salario por hora?\"))\n",
        "\n",
        "# Se determina las horas normales y las horas extras\n",
        "if h_work <= 40:\n",
        "    salario_normal = h_work\n",
        "    h_extras = 0\n",
        "else:\n",
        "    salario_normal = 40\n",
        "    h_extras = h_work - 40\n",
        "\n",
        "# Calcular salario extra con pago doble las primeras 9 horas y triple a partir de la décima\n",
        "if h_extras <= 9:\n",
        "    salario_extra = h_extras * salario_hora * 2\n",
        "else:\n",
        "    salario_extra = 9 * salario_hora * 2 + (h_extras - 9) * salario_hora * 3\n",
        "\n",
        "salario_total = (salario_normal * salario_hora) + salario_extra\n",
        "\n",
        "# Salida del salario del trabajador\n",
        "print(\"\\nSalario por hora: {:.2f}\".format(salario_hora))\n",
        "print(\"\\nHoras trabajadas: {:.2f}\".format(h_work))\n",
        "print(\"\\nSalario normal: {:.2f}\".format(salario_normal * salario_hora))\n",
        "print(\"\\nSalario extra: {:.2f}\".format(salario_extra))\n",
        "print(\"\\nSalario total: {:.2f}\".format(salario_total))"
      ],
      "metadata": {
        "colab": {
          "base_uri": "https://localhost:8080/"
        },
        "id": "J6QjVzcEcXlf",
        "outputId": "5abf6940-394e-467f-d3f0-4674850ea4c6"
      },
      "execution_count": 2,
      "outputs": [
        {
          "output_type": "stream",
          "name": "stdout",
          "text": [
            "\n",
            "¿Cuantas horas trabajo en su jornada? 56\n",
            "\n",
            "¿Cual es el salario por hora?90\n",
            "\n",
            "Salario por hora: 90.00\n",
            "\n",
            "Horas trabajadas: 56.00\n",
            "\n",
            "Salario normal: 3600.00\n",
            "\n",
            "Salario extra: 3510.00\n",
            "\n",
            "Salario total: 7110.00\n"
          ]
        }
      ]
    },
    {
      "cell_type": "markdown",
      "source": [
        "4- En la materia de Metodología de la programación se aplican 5 exámenes, calcular el promedio final de la materia donde la calificación menor de los exámenes se anula y el promedio se calcula en base a 4 exámenes.\n",
        "\n",
        "Desplegar el promedio final. y cual es la mas baja que se elimino."
      ],
      "metadata": {
        "id": "_ArywGWrekui"
      }
    },
    {
      "cell_type": "code",
      "source": [
        "#Felix Peraza Luis Zahir 369453\n",
        "#19/02/24\n",
        "#Programa que lea 4 calificaciones y la calificacion menor se anule\n",
        "#elim_calf\n",
        "\n",
        "calf1 = float(input(\"\\n Ingresa la calificacion del primer examen : \"))\n",
        "calf2 = float(input(\"\\n Ingresa la calificacion del segundo examen: \"))\n",
        "calf3 = float(input(\"\\n Ingresa la calificacion del tercer examen: \"))\n",
        "calf4 = float(input(\"\\n Ingresa la calificacoin del cuarto examen: \"))\n",
        "calf5 = float(input(\"\\n Ingresa la calificacion del quitno examen: \"))\n",
        "\n",
        "\n",
        "if calf1 < calf2:\n",
        "  if calf1 < calf3:\n",
        "    if calf1 < calf4:\n",
        "      if calf1 < calf5:\n",
        "        prom2 = (calf2 + calf3 + calf4 + calf5) / 4\n",
        "        print(\"La menor calificacoin es la del primer examen, entonces se eliminara\")\n",
        "\n",
        "if calf2 < calf1:\n",
        "  if calf2 < calf3:\n",
        "    if calf2 < calf4:\n",
        "      if calf2 < calf5:\n",
        "        prom2 = (calf1 + calf3 + calf4 + calf5) / 4\n",
        "        print(\"\\nLa menor calificacion es la del segundo examen, entonces se eliminara\")\n",
        "\n",
        "if calf3 < calf1:\n",
        "  if calf3 < calf2:\n",
        "    if calf3 < calf4:\n",
        "      if calf3 < calf5:\n",
        "        prom2 = (calf1 + calf2 + calf4 + calf5) / 4\n",
        "        print(\"\\nLa menor calificacion es la del tercer examen, entonces se eliminara\")\n",
        "\n",
        "if calf4 < calf1:\n",
        "  if calf4 < calf2:\n",
        "    if calf4 < calf3:\n",
        "      if calf4 < calf5:\n",
        "        prom2 = (calf1 + calf2 + calf3 + calf5) / 4\n",
        "        print(\"\\nLa menor calificacion es la del cuarto examen, entonces se eliminara\")\n",
        "\n",
        "if calf5 < calf1:\n",
        "  if calf5 < calf2:\n",
        "    if calf5 < calf3:\n",
        "      if calf5 < calf4:\n",
        "        prom2 = (calf1 + calf2 + calf3 + calf4) / 4\n",
        "        print(\"\\nLa menor calificacion es la del quinto examen, entonces se eliminara\")\n",
        "\n",
        "prom1 = (calf1 + calf2 + calf3 + calf4 + calf5) / 5\n",
        "print(\"\\nTu promedio con 5 calificaciones es de: \\n\", prom1)\n",
        "print(\"Tu promedio con 4 calificaciones es de: \\n\", prom2)\n"
      ],
      "metadata": {
        "colab": {
          "base_uri": "https://localhost:8080/"
        },
        "id": "J3sZHpTDekYg",
        "outputId": "2e972b21-efd5-4038-96a3-32090d33aabf"
      },
      "execution_count": 3,
      "outputs": [
        {
          "output_type": "stream",
          "name": "stdout",
          "text": [
            "\n",
            " Ingresa la calificacion del primer examen : 76\n",
            "\n",
            " Ingresa la calificacion del segundo examen: 89\n",
            "\n",
            " Ingresa la calificacion del tercer examen: 87\n",
            "\n",
            " Ingresa la calificacoin del cuarto examen: 6\n",
            "\n",
            " Ingresa la calificacion del quitno examen: 67\n",
            "\n",
            "La menor calificacion es la del cuarto examen, entonces se eliminara\n",
            "\n",
            "Tu promedio con 5 calificaciones es de: \n",
            " 65.0\n",
            "Tu promedio con 4 calificaciones es de: \n",
            " 79.75\n"
          ]
        }
      ]
    },
    {
      "cell_type": "markdown",
      "source": [
        "5.- Programa en Python que sirva para el juego del CHINCHAMPU (Piedra, Papel, Tijera) para 1 jugador y la computadora"
      ],
      "metadata": {
        "id": "HpG1q3d7ekA8"
      }
    },
    {
      "cell_type": "code",
      "source": [
        "import random\n",
        "\n",
        "print(\"Elige entre:\")\n",
        "print(\"1-. Piedra\")\n",
        "print(\"2-. Papel\")\n",
        "print(\"3-. Tijera\")\n",
        "\n",
        "jugador = int(input(\"Ingresa tu elección: \"))\n",
        "\n",
        "computadora = random.randint(1, 3)\n",
        "\n",
        "print(\"La computadora eligió:\", computadora)\n",
        "\n",
        "if jugador == computadora:\n",
        "    print(\"Empate\")\n",
        "else:\n",
        "    if (jugador == 1 and computadora == 3) or (jugador == 2 and computadora == 1) or (jugador == 3 and computadora == 2):\n",
        "        print(\"¡Ganaste!\")\n",
        "    else:\n",
        "        print(\"Te ganó la computadora\")"
      ],
      "metadata": {
        "colab": {
          "base_uri": "https://localhost:8080/"
        },
        "id": "wuerlP4le0Nr",
        "outputId": "7465b4dc-f5fe-43f3-ff63-74f026b31fc9"
      },
      "execution_count": 4,
      "outputs": [
        {
          "output_type": "stream",
          "name": "stdout",
          "text": [
            "Elige entre:\n",
            "1-. Piedra\n",
            "2-. Papel\n",
            "3-. Tijera\n",
            "Ingresa tu elección: 3\n",
            "La computadora eligió: 1\n",
            "Te ganó la computadora\n"
          ]
        }
      ]
    },
    {
      "cell_type": "markdown",
      "source": [
        "6.- Programa en Python que lea 4 números enteros desplegar cuales el menor, cual es mayor"
      ],
      "metadata": {
        "id": "aGq3chxUe-4W"
      }
    },
    {
      "cell_type": "code",
      "source": [
        "# Felix Peraza Luis Zahir 369453\n",
        "# 26-02-2024\n",
        "# Programa en Python que lee 4 números, despliega el valor del número mayor y menor.\n",
        "# 4numeros\n",
        "\n",
        "# Leer 4 números\n",
        "num1 = int(input(\"Ingrese el primer número: \"))\n",
        "num2 = int(input(\"Ingrese el segundo número: \"))\n",
        "num3 = int(input(\"Ingrese el tercer número: \"))\n",
        "num4 = int(input(\"Ingrese el cuarto número: \"))\n",
        "\n",
        "# Encontrar el número mayor\n",
        "mayor = max(num1, num2, num3, num4)\n",
        "\n",
        "# Encontrar el número menor\n",
        "menor = min(num1, num2, num3, num4)\n",
        "\n",
        "# Mostrar los resultados\n",
        "print(f\"\\nEl número mayor es: {mayor}\")\n",
        "print(f\"El número menor es: {menor}\")"
      ],
      "metadata": {
        "colab": {
          "base_uri": "https://localhost:8080/"
        },
        "id": "adRuHFqDfne7",
        "outputId": "15e711e2-e122-4b1a-ccae-30cf3b0b27b0"
      },
      "execution_count": 5,
      "outputs": [
        {
          "output_type": "stream",
          "name": "stdout",
          "text": [
            "Ingrese el primer número: 1\n",
            "Ingrese el segundo número: 2\n",
            "Ingrese el tercer número: 3\n",
            "Ingrese el cuarto número: 4\n",
            "\n",
            "El número mayor es: 4\n",
            "El número menor es: 1\n"
          ]
        }
      ]
    },
    {
      "cell_type": "markdown",
      "source": [
        "8.- Programa en Python que sirva para calcular el área de un circulo"
      ],
      "metadata": {
        "id": "wG3rWhsofuYC"
      }
    },
    {
      "cell_type": "code",
      "source": [
        "# Felix Peraza Luis Zahir 369453\n",
        "#26/02/24\n",
        "# Programa en Python que lee el volumen de un cilindro\n",
        "# cilindrada\n",
        "\n",
        "import math\n",
        "\n",
        "# Explicacion para el usuario sobre el programa\n",
        "print(\"\\n _______Calculadora de volumen de un cilindro_______ \")\n",
        "print(\"\\nFormula para calcular el volumen de un cilindro: pi * (radio)^2 * altura\\n\")\n",
        "\n",
        "# Entrada de datos para el volumen del cilindro\n",
        "rad = float(input(\"\\nIngrese el radio de tu cilindro: \"))\n",
        "alt = float(input(\"\\nIngrese la altura de tu cilindro: \"))\n",
        "\n",
        "# Calculo y salida del volumen de cilindro\n",
        "vol = math.pi * (rad ** 2) * alt\n",
        "print(\"\\nEl volumen del cilindro es: {:.2f}\".format(vol))"
      ],
      "metadata": {
        "colab": {
          "base_uri": "https://localhost:8080/"
        },
        "id": "c8y96_ZNfu93",
        "outputId": "8e74f0f0-2313-42d5-c0f5-cc89ef07cca5"
      },
      "execution_count": 6,
      "outputs": [
        {
          "output_type": "stream",
          "name": "stdout",
          "text": [
            "\n",
            " _______Calculadora de volumen de un cilindro_______ \n",
            "\n",
            "Formula para calcular el volumen de un cilindro: pi * (radio)^2 * altura\n",
            "\n",
            "\n",
            "Ingrese el radio de tu cilindro: 4\n",
            "\n",
            "Ingrese la altura de tu cilindro: 3\n",
            "\n",
            "El volumen del cilindro es: 150.80\n"
          ]
        }
      ]
    }
  ]
}