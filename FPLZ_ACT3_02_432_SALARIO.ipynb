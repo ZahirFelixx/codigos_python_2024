{
  "nbformat": 4,
  "nbformat_minor": 0,
  "metadata": {
    "colab": {
      "provenance": [],
      "authorship_tag": "ABX9TyN6Jg9OjeFIZAmT4FU6pVeD",
      "include_colab_link": true
    },
    "kernelspec": {
      "name": "python3",
      "display_name": "Python 3"
    },
    "language_info": {
      "name": "python"
    }
  },
  "cells": [
    {
      "cell_type": "markdown",
      "metadata": {
        "id": "view-in-github",
        "colab_type": "text"
      },
      "source": [
        "<a href=\"https://colab.research.google.com/github/ZahirFelixx/codigos_python/blob/main/FPLZ_ACT3_02_432_SALARIO.ipynb\" target=\"_parent\"><img src=\"https://colab.research.google.com/assets/colab-badge.svg\" alt=\"Open In Colab\"/></a>"
      ]
    },
    {
      "cell_type": "markdown",
      "source": [
        "2.- Algoritmo que sirva para calcular el salario semanal de un trabajador donde se obtiene como dato de entrada las horas semanales trabajadas, el salario por hora.\n",
        "\n",
        "El programa deberá calcular el salario normal, salario extra y salario total, considerando lo siguiente:\n",
        "\n",
        "Jornada Normal de 40 horas.\n",
        "El salario normal se considera las horas trabajadas menores o igual a la jornada normal\n",
        "Salario extra se considera las horas trabajadas mayores a la jornada normal y se pagan dobles las primeras 9 y triples a partir de la décima hora extra. Ejercicio 2"
      ],
      "metadata": {
        "id": "DwZbm7I7MJnt"
      }
    },
    {
      "cell_type": "code",
      "source": [
        "from re import I\n",
        "from traitlets.traitlets import Int\n",
        "#Felix Peraza Luis Zahir 369453\n",
        "#Fecha: 01-09-2023\n",
        "#Algoritmo que sirva para calcular el salario semanal de un trabajador donde se obtiene como dato de entrada las horas semanales trabajadas, el salario por hora.\n",
        "#Salariominimo\n",
        "\n",
        "hsema = float(input(\"Cuantas horas trabaja a la semana: \"))     # hsema = horas semanales\n",
        "salah = float(input(\"Cuanto le pagan la hora: \"))              #salah = salario por hora\n",
        "\n",
        "totalsalaextra = salah * 2\n",
        "salaextratriple = salah * 3\n",
        "\n",
        "if hsema <= 40:\n",
        "    sueldo = hsema * salah\n",
        "\n",
        "else:\n",
        "    sueldo = hsema * salah\n",
        "    horaextra = hsema - 40\n",
        "\n",
        "if horaextra <= 9:\n",
        "    salaextra = horaextra * totalsalaextra\n",
        "\n",
        "total = sueldo + salaextra\n",
        "\n",
        "\n",
        "print(\"El total de horas que trabajo fueron: \", hsema)\n",
        "print(\"La paga que recibira es de: \", sueldo)\n",
        "print(\"El salario extra es: \", total)\n",
        "\n",
        "\n"
      ],
      "metadata": {
        "colab": {
          "base_uri": "https://localhost:8080/"
        },
        "id": "h81btHq8MNPu",
        "outputId": "06265af4-45f4-4b60-a383-6b9e652782ff"
      },
      "execution_count": null,
      "outputs": [
        {
          "output_type": "stream",
          "name": "stdout",
          "text": [
            "Cuantas horas trabaja a la semana: 90\n",
            "Cuanto le pagan la hora: 90\n",
            "El total de horas que trabajo fueron:  90.0\n",
            "La paga que recibira es de:  8100.0\n",
            "El salario extra es:  8460.0\n"
          ]
        }
      ]
    }
  ]
}