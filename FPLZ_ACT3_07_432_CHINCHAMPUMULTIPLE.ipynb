{
  "nbformat": 4,
  "nbformat_minor": 0,
  "metadata": {
    "colab": {
      "provenance": [],
      "authorship_tag": "ABX9TyPTNAzPpLlqyhKx846DJanv",
      "include_colab_link": true
    },
    "kernelspec": {
      "name": "python3",
      "display_name": "Python 3"
    },
    "language_info": {
      "name": "python"
    }
  },
  "cells": [
    {
      "cell_type": "markdown",
      "metadata": {
        "id": "view-in-github",
        "colab_type": "text"
      },
      "source": [
        "<a href=\"https://colab.research.google.com/github/ZahirFelixx/codigos_python/blob/main/FPLZ_ACT3_07_432_CHINCHAMPUMULTIPLE.ipynb\" target=\"_parent\"><img src=\"https://colab.research.google.com/assets/colab-badge.svg\" alt=\"Open In Colab\"/></a>"
      ]
    },
    {
      "cell_type": "code",
      "execution_count": 1,
      "metadata": {
        "id": "ioLdEe4RmsrF"
      },
      "outputs": [],
      "source": [
        "import random"
      ]
    },
    {
      "cell_type": "code",
      "source": [
        "#Felix Peraza Luis Zahir 369453\n",
        "#02-09-2023\n",
        "#Algoritmo que sirva para el juego del CHINCHAMPU (Piedra, Papel, Tijera) para 1 jugador y la computadora, (usar selección múltiple)\n",
        "#CHINCHAMPU_MULTIPLE\n",
        "\n",
        "jugador = int(input(\"Elige entre 1-.piedra 2-.papel 3-.tijera\"))\n",
        "\n",
        "computadora = random.randrange(1, 3)\n",
        "\n",
        "\n",
        "print(\"La computadora eligio: \",computadora)\n",
        "\n",
        "if jugador == computadora:\n",
        "     print(\"Empate\")\n",
        "else:\n",
        "    if (jugador == 1 and computadora == 3) or (jugador == 2 and computadora == 1) or (jugador == 3 and computadora == 2):\n",
        "        print(\"Tu ganaste\")\n",
        "    else:\n",
        "        print(\"Te gano la computadora\")\n"
      ],
      "metadata": {
        "colab": {
          "base_uri": "https://localhost:8080/"
        },
        "id": "27rxN9-fmwGo",
        "outputId": "372028ba-7366-40e2-dec4-7e8239f97941"
      },
      "execution_count": 2,
      "outputs": [
        {
          "output_type": "stream",
          "name": "stdout",
          "text": [
            "Elige entre 1-.piedra 2-.papel 3-.tijera2\n",
            "La computadora eligio:  1\n",
            "Tu ganaste\n"
          ]
        }
      ]
    }
  ]
}