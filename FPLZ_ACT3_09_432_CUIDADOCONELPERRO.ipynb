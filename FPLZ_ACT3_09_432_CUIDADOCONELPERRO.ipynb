{
  "nbformat": 4,
  "nbformat_minor": 0,
  "metadata": {
    "colab": {
      "provenance": [],
      "authorship_tag": "ABX9TyN4jG5d2VQhYLW2EXd0TetA",
      "include_colab_link": true
    },
    "kernelspec": {
      "name": "python3",
      "display_name": "Python 3"
    },
    "language_info": {
      "name": "python"
    }
  },
  "cells": [
    {
      "cell_type": "markdown",
      "metadata": {
        "id": "view-in-github",
        "colab_type": "text"
      },
      "source": [
        "<a href=\"https://colab.research.google.com/github/ZahirFelixx/codigos_python/blob/main/FPLZ_ACT3_09_432_CUIDADOCONELPERRO.ipynb\" target=\"_parent\"><img src=\"https://colab.research.google.com/assets/colab-badge.svg\" alt=\"Open In Colab\"/></a>"
      ]
    },
    {
      "cell_type": "code",
      "execution_count": 1,
      "metadata": {
        "colab": {
          "base_uri": "https://localhost:8080/"
        },
        "id": "S8aX18Wkr19G",
        "outputId": "f56575d0-4a55-462c-9a4b-8901b9be2d5b"
      },
      "outputs": [
        {
          "output_type": "stream",
          "name": "stdout",
          "text": [
            "Ingrese el precio de su prenda200\n",
            "1-. Verano 2-. Invierno 3-.Primavera o 4-.otono2\n",
            "Ingrese el tipo de etiqueta de su prenda [roja/verde]roja\n",
            "El precio final es:  140.0\n"
          ]
        }
      ],
      "source": [
        "#Felix Peraza Luis Zahir 369453\n",
        "#02-09-2023\n",
        "#En una tienda de ropa, los precios de los productos cambian dependiendo de la temporada. Durante la temporada de verano, todos los productos tienen un descuento del 20%. Durante la temporada de invierno, los productos con etiqueta roja tienen un descuento del 30% y los productos con etiqueta verde tienen un descuento del 15%. Durante la temporada de primavera y otoño, los productos con etiqueta amarilla tienen un descuento del 10%. Escribe un programa que calcule el precio a pagar por un cliente, tomando en cuenta los descuentos correspondientes.\n",
        "#CUIDADO_CON_EL_PERRO\n",
        "\n",
        "precio = float(input(\"Ingrese el precio de su prenda\"))\n",
        "temporada = int(input(\"1-. Verano 2-. Invierno 3-.Primavera o 4-.otono\"))\n",
        "\n",
        "descuento = 0\n",
        "\n",
        "if temporada == 1:\n",
        "    descuento = 0.20 * precio\n",
        "\n",
        "elif temporada == 2:\n",
        "    etiqueta = input(\"Ingrese el tipo de etiqueta de su prenda [roja/verde]\")\n",
        "    if etiqueta == \"roja\":\n",
        "        descuento = 0.30 * precio\n",
        "    elif etiqueta == \"verde\":\n",
        "        decuento = 0.15 * precio\n",
        "\n",
        "elif temporada == 3 or temporada ==4:\n",
        "    etiqueta = input(\"Ingrese el tipo de etiqueta de su prenda [amarilla]\")\n",
        "    if etiqueta == \"amarilla\":\n",
        "        descuento = 0.10 * precio\n",
        "\n",
        "total = precio - descuento\n",
        "print(\"El precio final es: \", total)"
      ]
    }
  ]
}