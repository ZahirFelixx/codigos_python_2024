{
  "nbformat": 4,
  "nbformat_minor": 0,
  "metadata": {
    "colab": {
      "provenance": [],
      "authorship_tag": "ABX9TyOLYz4fyx1zdmAFx2YX2rZI",
      "include_colab_link": true
    },
    "kernelspec": {
      "name": "python3",
      "display_name": "Python 3"
    },
    "language_info": {
      "name": "python"
    }
  },
  "cells": [
    {
      "cell_type": "markdown",
      "metadata": {
        "id": "view-in-github",
        "colab_type": "text"
      },
      "source": [
        "<a href=\"https://colab.research.google.com/github/ZahirFelixx/codigos_python/blob/main/FPLZ_ACT3_10_432_RESTAURANTE.ipynb\" target=\"_parent\"><img src=\"https://colab.research.google.com/assets/colab-badge.svg\" alt=\"Open In Colab\"/></a>"
      ]
    },
    {
      "cell_type": "code",
      "execution_count": null,
      "metadata": {
        "id": "hGZV7YtguYpF"
      },
      "outputs": [],
      "source": [
        "#Felix Peraza Luis Zahir 369453\n",
        "#02-09-2023\n",
        "#Un restaurante ofrece descuentos a sus clientes, dependiendo del día de la semana y del tipo de menú que pidan. Los lunes, los clientes que pidan el menú del día tienen un descuento del 10%. Los martes, los clientes que pidan el menú infantil tienen un descuento del 20%. Los miércoles, los clientes que pidan el menú vegetariano tienen un descuento del 15%. Los jueves, los clientes que pidan el menú del chef tienen un descuento del 5%. Los viernes, los clientes que pidan el menú del día tienen un descuento del 5%. Los sábados y domingos no hay descuentos. Escribe un programa que calcule el precio a pagar por un cliente, tomando en cuenta los descuentos correspondientes.\n",
        "#El_PARIAN\n",
        "\n",
        "dia_semana = input(\"Ingrese el día de la semana: \")\n",
        "\n",
        "tipo_menu = input(\"Ingrese el tipo de menú (menu del día, menu infantil, menu vegetariano, menu del chef): \")\n",
        "\n",
        "descuento = 0\n",
        "\n",
        "if dia_semana == \"lunes\" and tipo_menu == \"menu del día\":\n",
        "    descuento = 0.10\n",
        "elif dia_semana == \"martes\" and tipo_menu == \"menu infantil\":\n",
        "    descuento = 0.20\n",
        "elif dia_semana == \"miércoles\" and tipo_menu == \"menu vegetariano\":\n",
        "    descuento = 0.15\n",
        "elif dia_semana == \"jueves\" and tipo_menu == \"menu del chef\":\n",
        "    descuento = 0.05\n",
        "elif dia_semana == \"viernes\" and tipo_menu == \"menu del día\":\n",
        "    descuento = 0.05\n",
        "\n",
        "precio_menu = float(input(\"Ingrese el precio del menú: \"))\n",
        "\n",
        "precio_total = precio_menu - (descuento * precio_menu)\n",
        "\n",
        "print(f\"El precio total a pagar es: ${precio_total:.2f}\")"
      ]
    }
  ]
}