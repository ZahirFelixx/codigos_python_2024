{
  "nbformat": 4,
  "nbformat_minor": 0,
  "metadata": {
    "colab": {
      "provenance": [],
      "authorship_tag": "ABX9TyNHGlTB904HEnzgPyVZoQIR",
      "include_colab_link": true
    },
    "kernelspec": {
      "name": "python3",
      "display_name": "Python 3"
    },
    "language_info": {
      "name": "python"
    }
  },
  "cells": [
    {
      "cell_type": "markdown",
      "metadata": {
        "id": "view-in-github",
        "colab_type": "text"
      },
      "source": [
        "<a href=\"https://colab.research.google.com/github/ZahirFelixx/codigos_python_2024/blob/main/ACT2_FPLZ_05.ipynb\" target=\"_parent\"><img src=\"https://colab.research.google.com/assets/colab-badge.svg\" alt=\"Open In Colab\"/></a>"
      ]
    },
    {
      "cell_type": "markdown",
      "source": [
        "# ACTIVIDAD2\n",
        "\n",
        "Ejercicio 5\n",
        "\n",
        "5.- Programa en Python que lea 2 números enteros, usar una condición y analizar los dos números y desplegar cual de los números es el mayor."
      ],
      "metadata": {
        "id": "-6p25vJLcctH"
      }
    },
    {
      "cell_type": "code",
      "execution_count": 2,
      "metadata": {
        "colab": {
          "base_uri": "https://localhost:8080/"
        },
        "id": "pa4P8faNccSc",
        "outputId": "3063cd6d-d583-4db5-bf20-d42f3ac984c9"
      },
      "outputs": [
        {
          "output_type": "stream",
          "name": "stdout",
          "text": [
            "\n",
            " Ingresa un numero \n",
            "4\n",
            "\n",
            " Ingresa otro numero \n",
            "1\n",
            "El numero mayor es el : 4\n"
          ]
        }
      ],
      "source": [
        "#Felix Peraza Luis Zahir 369453\n",
        "#12/02/2024\n",
        "#programa que detecte que numero es el mayor de 2 numeros\n",
        "#num_mayor\n",
        "\n",
        "#Entrada de datos\n",
        "num1 = int(input(\"\\n Ingresa un numero \\n\"))\n",
        "num2 = int(input(\"\\n Ingresa otro numero \\n\"))\n",
        "\n",
        "#salida y uso de condicion compuesta para deeterminar que numero es mayor\n",
        "if num1 > num2:\n",
        "  print(\"El numero mayor es el :\", num1)\n",
        "else:\n",
        "  print(\"El numero mayor es el : \", num2)"
      ]
    }
  ]
}