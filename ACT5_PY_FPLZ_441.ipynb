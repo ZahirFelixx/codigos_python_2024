{
  "nbformat": 4,
  "nbformat_minor": 0,
  "metadata": {
    "colab": {
      "provenance": [],
      "authorship_tag": "ABX9TyPZ8L+hcOf5PR+L2vE/Q0R1",
      "include_colab_link": true
    },
    "kernelspec": {
      "name": "python3",
      "display_name": "Python 3"
    },
    "language_info": {
      "name": "python"
    }
  },
  "cells": [
    {
      "cell_type": "markdown",
      "metadata": {
        "id": "view-in-github",
        "colab_type": "text"
      },
      "source": [
        "<a href=\"https://colab.research.google.com/github/ZahirFelixx/codigos_python_2024/blob/main/ACT5_PY_FPLZ_441.ipynb\" target=\"_parent\"><img src=\"https://colab.research.google.com/assets/colab-badge.svg\" alt=\"Open In Colab\"/></a>"
      ]
    },
    {
      "cell_type": "markdown",
      "source": [
        "# ACTIVIDAD 5\n",
        "\n",
        "Ejercicio 1\n",
        "\n",
        "1.- Programa en Python que genere 40 números aleatorios entre el 0 y 200, desplegar los números y la leyenda de cada número si es par o impar , la cantidad de los números pares e impares así como la suma de los números pares o impares."
      ],
      "metadata": {
        "id": "rdwwRPS7vcP2"
      }
    },
    {
      "cell_type": "code",
      "execution_count": null,
      "metadata": {
        "id": "yYL_FJievHja",
        "colab": {
          "base_uri": "https://localhost:8080/"
        },
        "outputId": "bb6b1641-257c-4494-89b2-32831781b81b"
      },
      "outputs": [
        {
          "output_type": "stream",
          "name": "stdout",
          "text": [
            "47 es par\n",
            "49 es impar\n",
            "83 es par\n",
            "182 es impar\n",
            "39 es par\n",
            "59 es impar\n",
            "1 es par\n",
            "140 es impar\n",
            "152 es par\n",
            "62 es impar\n",
            "113 es par\n",
            "71 es impar\n",
            "61 es par\n",
            "145 es impar\n",
            "71 es par\n",
            "131 es impar\n",
            "192 es par\n",
            "155 es impar\n",
            "47 es par\n",
            "25 es impar\n",
            "25 es par\n",
            "154 es impar\n",
            "15 es par\n",
            "168 es impar\n",
            "143 es par\n",
            "74 es impar\n",
            "22 es par\n",
            "64 es impar\n",
            "68 es par\n",
            "178 es impar\n",
            "48 es par\n",
            "109 es impar\n",
            "56 es par\n",
            "155 es impar\n",
            "28 es par\n",
            "43 es impar\n",
            "16 es par\n",
            "96 es impar\n",
            "131 es par\n",
            "189 es impar\n",
            "La cantidad de numeros pares es de:20\n",
            "La cantidad de numeros impares es de:20\n",
            "La suma de los numeros pares es:1358\n",
            "La suma de los numeros impares es:2249\n",
            "40  Este es el todal de numero  \n"
          ]
        }
      ],
      "source": [
        "#Felix Peraza Luis Zahir 369453\n",
        "#01/03/24\n",
        "#Programa que genere 40 numeros en un rango de 0 a 200, desplegar si es par o impar y sus sumas\n",
        "#forpar\n",
        "\n",
        "import random\n",
        "i = 0\n",
        "par = 0\n",
        "spar = 0\n",
        "simpar = 0\n",
        "\n",
        "while i < 40:\n",
        "  x = random.randrange(0,200)\n",
        "  if i % 2 == 0:\n",
        "    print (f\"{x} es par\")\n",
        "    par+=1\n",
        "    spar += x\n",
        "  else:\n",
        "    print (f\"{x} es impar\")\n",
        "    simpar += x\n",
        "  i+=1\n",
        "print (f\"La cantidad de numeros pares es de:{par}\")\n",
        "print (f\"La cantidad de numeros impares es de:{i - par}\")\n",
        "print (f\"La suma de los numeros pares es:{spar}\")\n",
        "print (f\"La suma de los numeros impares es:{simpar}\")\n",
        "print (f\"{i}  Este es el todal de numero  \")"
      ]
    },
    {
      "cell_type": "markdown",
      "source": [
        "2.- Programa en Python que despliegue la tabla de multiplicar de un número dado (número entre el 1 y 20).\n",
        "\n",
        "\n",
        "\n",
        "Tabla del 5\n",
        "\n",
        "5 * 1 = 5\n",
        "\n",
        "5* 2 = 10\n",
        "\n",
        ".\n",
        "\n",
        ".\n",
        "\n",
        ".\n",
        "\n",
        "5*10=50"
      ],
      "metadata": {
        "id": "XcBHbJITwATl"
      }
    },
    {
      "cell_type": "code",
      "source": [
        "#Felix Peraza Luis Zahir 269453\n",
        "#02/03/24\n",
        "#Programa que despliegue tablas de multiplicar entre el numero 1 y 20\n",
        "#Multitabla\n",
        "i = 0\n",
        "band = True\n",
        "total = 0\n",
        "while band:\n",
        "  try:\n",
        "    num = int(input(\"Ingresa un numero entre el 1 y 20 o 0 si desea salir: \\n\"))\n",
        "\n",
        "    if num in range(1, 21):\n",
        "      for i in range(1, 11):\n",
        "        total = num * i\n",
        "        print(f\"{num} x {i} = {total}\")\n",
        "      band = False\n",
        "    elif num == 0:\n",
        "      print(\"Adios popo\")\n",
        "      band = False\n",
        "    else:\n",
        "      print(\"El numero debe de ser entre 1 y 20\\n\")\n",
        "  except ValueError:\n",
        "    print(\"Por favor, ingresa un numero entero valido.\")"
      ],
      "metadata": {
        "id": "2BlHufwQtrUF",
        "colab": {
          "base_uri": "https://localhost:8080/"
        },
        "outputId": "a3f24638-d59f-40e4-f420-43a665154725"
      },
      "execution_count": null,
      "outputs": [
        {
          "output_type": "stream",
          "name": "stdout",
          "text": [
            "Ingresa un numero entre el 1 y 20 o 0 si desea salir: \n",
            "5\n",
            "5 x 1 = 5\n",
            "5 x 2 = 10\n",
            "5 x 3 = 15\n",
            "5 x 4 = 20\n",
            "5 x 5 = 25\n",
            "5 x 6 = 30\n",
            "5 x 7 = 35\n",
            "5 x 8 = 40\n",
            "5 x 9 = 45\n",
            "5 x 10 = 50\n"
          ]
        }
      ]
    },
    {
      "cell_type": "markdown",
      "source": [
        "3.- Programa en Python que lea una calificación, las calificación deberá estar en el rango de 0 a 100, si hay un error de captura, mostrar mensaje de error. con la calificación correcta mostrar msg de aprobado reprobado."
      ],
      "metadata": {
        "id": "BheV2NvwzYqd"
      }
    },
    {
      "cell_type": "code",
      "source": [
        "#Felix Peraza Luis Zahir 369453\n",
        "#02/03/24\n",
        "#Programa que\n",
        "i = 0\n",
        "band = True\n",
        "while band:\n",
        "  try:\n",
        "    calf = float(input(\"Ingresa la calificacion del primer parcial: \\n\"))\n",
        "    if calf in range(0,101):\n",
        "      if calf >= 60:\n",
        "        print (\"Aprobado\")\n",
        "        band = False\n",
        "      else:\n",
        "        print (\"Reprobado\")\n",
        "        band = False\n",
        "    else:\n",
        "      print (\"La calificacion ingresada no esta dentro del rango\")\n",
        "  except ValueError:\n",
        "    print (\"Error: Ingrese solo numeros enteros validos\")"
      ],
      "metadata": {
        "id": "GBIy9bNC3KAG",
        "colab": {
          "base_uri": "https://localhost:8080/"
        },
        "outputId": "3b41296d-bbf3-4a37-ccd4-c095236d2683"
      },
      "execution_count": null,
      "outputs": [
        {
          "output_type": "stream",
          "name": "stdout",
          "text": [
            "Ingresa la calificacion del primer parcial: \n",
            "89\n",
            "Aprobado\n"
          ]
        }
      ]
    },
    {
      "cell_type": "markdown",
      "source": [
        "4.- Programa en Python que lea n cantidad de números enteros dentro de un rango dado (> 0 ) , el programa deberá terminar cuando el usuario introduzca el número cero.\n",
        "\n",
        "desplegar la suma de números y la media."
      ],
      "metadata": {
        "id": "yAg0wnAR4O50"
      }
    },
    {
      "cell_type": "code",
      "source": [
        "#Felix Peraza Luis Zahir 369453\n",
        "#02/03/24\n",
        "#Programa en Python que lea n cantidad de números enteros dentro de un rango dado (> 0 ) , el programa deberá terminar cuando el usuario introduzca el número cero.\n",
        "#Rangodado\n",
        "\n",
        "suma = 0\n",
        "i = 0\n",
        "total_num = 0\n",
        "band = True\n",
        "media = 0\n",
        "\n",
        "while band:\n",
        "  try:\n",
        "    num = int(input(\"Ingresa un numerodentro de un rango dado (> 0 ) o 0 para terminar: \\n\"))\n",
        "    if num == 0:\n",
        "      band = False\n",
        "    elif num > 0:\n",
        "      suma += num\n",
        "      total_num += 1\n",
        "    else:\n",
        "      print (\"Ingrese un numero > a 0\")\n",
        "  except ValueError:\n",
        "    print (\"Error: Ingresa numeros enteros validos\")\n",
        "\n",
        "if total_num > 0:\n",
        "  media = suma / total_num\n",
        "  print (f\"La suma de los numeros fue: {suma}\")\n",
        "  print (f\"La media de los numeros fue: {media}\")\n",
        "else:\n",
        "  print (\"Ingresa numeros validos\")\n"
      ],
      "metadata": {
        "id": "jd2xL1B14QvT",
        "colab": {
          "base_uri": "https://localhost:8080/"
        },
        "outputId": "57b4e64a-ef3b-4ec1-d89b-07400ebdd50e"
      },
      "execution_count": null,
      "outputs": [
        {
          "output_type": "stream",
          "name": "stdout",
          "text": [
            "Ingresa un numerodentro de un rango dado (> 0 ) o 0 para terminar: \n",
            "5\n",
            "Ingresa un numerodentro de un rango dado (> 0 ) o 0 para terminar: \n",
            "4\n",
            "Ingresa un numerodentro de un rango dado (> 0 ) o 0 para terminar: \n",
            "5\n",
            "Ingresa un numerodentro de un rango dado (> 0 ) o 0 para terminar: \n",
            "4\n",
            "Ingresa un numerodentro de un rango dado (> 0 ) o 0 para terminar: \n",
            "0\n",
            "La suma de los numeros fue: 18\n",
            "La media de los numeros fue: 4.5\n"
          ]
        }
      ]
    },
    {
      "cell_type": "markdown",
      "source": [
        "5.- Programa en Python que sirva para leer el promedio de una materia. donde el usuario tendrá un máximo de 3 oportunidades de cursar la materia, si el promedio es aprobado, felicitarlo y continuar el siguiente semestre, si promedio es reprobado deberá salir mensaje de repetir materia o es baja académica si ha reprobado 3 veces.\n",
        "\n"
      ],
      "metadata": {
        "id": "xnF_i3Yqc_2C"
      }
    },
    {
      "cell_type": "code",
      "source": [
        "#Felix Peraza Luis Zahir 369453\n",
        "#02/03/24\n",
        "#Programa en Python que sirva para leer el promedio de una materia. donde el usuario tendrá un máximo de 3 oportunidades de cursar la materia\n",
        "#Reprobados\n",
        "i = 0\n",
        "band = True\n",
        "while band:\n",
        "  try:\n",
        "    prom = float(input(\"Ingresa tu promedio: \\n\"))\n",
        "    if prom >= 60:\n",
        "      print (\"Felicidades\")\n",
        "      band = False\n",
        "    elif prom < 60:\n",
        "      print (\"Tu promedio es reprobatorio\")\n",
        "      oport = int(input(\"Ingresa el numero de veces que haz cursado esta materia: \\n\"))\n",
        "      if oport == 3:\n",
        "        print (\"Haz excedidio el numero de oprtunidades, seras dado de baja\")\n",
        "        band = False\n",
        "      else:\n",
        "        print(\"Tienes oportunidad de cursar otra vez la materia\")\n",
        "        band = False\n",
        "  except ValueError:\n",
        "    print (\"Error: Ingresa numeros enteros validos\")"
      ],
      "metadata": {
        "id": "BrZ7cXG_eGfE",
        "colab": {
          "base_uri": "https://localhost:8080/"
        },
        "outputId": "54f94090-783e-487f-9640-3366ee96aa0d"
      },
      "execution_count": null,
      "outputs": [
        {
          "output_type": "stream",
          "name": "stdout",
          "text": [
            "Ingresa tu promedio: \n",
            "98\n",
            "Felicidades\n"
          ]
        }
      ]
    },
    {
      "cell_type": "markdown",
      "source": [
        "PARTE 2:\n",
        "\n",
        "\n",
        "1.- función que lea n cantidad de números hasta que el usuario lo desee, desplegar la suma de los números, media y valor de los números mayores y menores."
      ],
      "metadata": {
        "id": "FBBMq-aDhVjF"
      }
    },
    {
      "cell_type": "code",
      "source": [
        "#Felix Peraza Luis Zahir 369453\n",
        "#02/03/24\n",
        "#función que lea n cantidad de números hasta que el usuario lo desee, desplegar la suma de los números, media y valor de los números mayores y menores.\n",
        "#funcion n\n",
        "i = 0\n",
        "band = True\n",
        "total = 0\n",
        "nmayor = 0\n",
        "nmenor = 0\n",
        "suma = 0\n",
        "total_num = 0\n",
        "\n",
        "while band:\n",
        "  try:\n",
        "    num = int(input(\"Ingresa el valor de un numero, 0 si desea parar.  \\n\"))\n",
        "    suma+=num\n",
        "    total_num+=1\n",
        "    if num > nmayor:\n",
        "      nmayor = num\n",
        "    if num < nmenor:\n",
        "      nmenor = num\n",
        "    if num == 0:\n",
        "      band = False\n",
        "  except ValueError:\n",
        "    print (\"Error: Solo numeros enteros validos\")\n",
        "  i+=1\n",
        "if num == 0:\n",
        "  print (f\"suma:{suma}\")\n",
        "  print (f\"total de numeros:{total_num}\")\n",
        "  print (f\"Numero mayor: {nmayor}\")\n",
        "  print (f\"Numero menor: {nmenor}\")\n",
        "  band = False\n"
      ],
      "metadata": {
        "colab": {
          "base_uri": "https://localhost:8080/"
        },
        "id": "9GFr8cBYhnhL",
        "outputId": "400fdd64-e1ec-4cfa-f0f4-44c70bdfc5b5"
      },
      "execution_count": null,
      "outputs": [
        {
          "output_type": "stream",
          "name": "stdout",
          "text": [
            "Ingresa el valor de un numero, 0 si desea parar.  \n",
            "4\n",
            "Ingresa el valor de un numero, 0 si desea parar.  \n",
            "5\n",
            "Ingresa el valor de un numero, 0 si desea parar.  \n",
            "6\n",
            "Ingresa el valor de un numero, 0 si desea parar.  \n",
            "0\n",
            "suma:15\n",
            "total de numeros:4\n",
            "Numero mayor: 6\n",
            "Numero menor: 0\n"
          ]
        }
      ]
    },
    {
      "cell_type": "markdown",
      "source": [
        "2.- función que genere 15 números impares entre 10 y 60 o máximo de 25 números. desplegar la media de los pares y media de impares."
      ],
      "metadata": {
        "id": "pVUlr_dPqQ2X"
      }
    },
    {
      "cell_type": "code",
      "source": [
        "#Felix Peraza Luis zahir 369453\n",
        "#08/03/24\n",
        "#Programa que genere 15 numeros impares entre un rango, y desplegar la media de los apres y media de impares\n",
        "#Num_imp_range\n",
        "\n",
        "import random\n",
        "i = 0\n",
        "media_par = 0\n",
        "media_imp = 0\n",
        "suma_imp = 0\n",
        "suma_par = 0\n",
        "total_par = 0\n",
        "total_imp = 0\n",
        "\n",
        "while i < 25:\n",
        "  num = random.randrange(10,61)\n",
        "  if num % 2 == 1:\n",
        "    suma_imp += num\n",
        "    total_imp += 1\n",
        "    print (f\"{num} es impar\")\n",
        "\n",
        "  if num % 2 == 0:\n",
        "    suma_par += num\n",
        "    total_par += 1\n",
        "    print (f\"{num} es par\")\n",
        "\n",
        "  if total_imp == 15:\n",
        "    print (\"el numero de impares fue de 15\")\n",
        "    break\n",
        "  i+=1\n",
        "\n",
        "media_par= suma_par / total_par\n",
        "media_imp= suma_imp / total_imp\n",
        "print (f\"La media de los numeros pares es {round(media_par, 2)}\")\n",
        "print (f\"La media de los numeros impares es {round(media_imp, 2)}\")\n",
        "print (f\"El total de numeros fue {i}\")\n",
        "print (f\"El total de numeros impares {total_imp}\")\n",
        "print (f\"El total de numeros pares {total_par}\")\n",
        "\n",
        "\n"
      ],
      "metadata": {
        "colab": {
          "base_uri": "https://localhost:8080/"
        },
        "id": "ykz9qtYKqRsF",
        "outputId": "5e38a903-2722-4194-84fc-747b7adcfe00"
      },
      "execution_count": null,
      "outputs": [
        {
          "output_type": "stream",
          "name": "stdout",
          "text": [
            "22 es par\n",
            "16 es par\n",
            "34 es par\n",
            "31 es impar\n",
            "57 es impar\n",
            "43 es impar\n",
            "41 es impar\n",
            "12 es par\n",
            "22 es par\n",
            "23 es impar\n",
            "38 es par\n",
            "14 es par\n",
            "40 es par\n",
            "25 es impar\n",
            "19 es impar\n",
            "59 es impar\n",
            "17 es impar\n",
            "54 es par\n",
            "48 es par\n",
            "41 es impar\n",
            "44 es par\n",
            "42 es par\n",
            "32 es par\n",
            "24 es par\n",
            "54 es par\n",
            "La media de los numeros pares es 33\n",
            "La media de los numeros impares es 35.6\n",
            "El total de numeros fue 25\n",
            "El total de numeros impares 10\n",
            "El total de numeros pares 15\n"
          ]
        }
      ]
    },
    {
      "cell_type": "markdown",
      "source": [
        "3.- función que sirva para leer y validar un número dentro de un rango dado por el usuario. repetir esta acción hasta que el usuario lo desee, desplegar cantidad de números y promedio de los números.."
      ],
      "metadata": {
        "id": "T74-pucsMO5F"
      }
    },
    {
      "cell_type": "code",
      "source": [
        "#Felix Peraza Luis Zahir 369453\n",
        "#09/03/24\n",
        "#Funcion que lea y valide un numero dentro de un rango dado por el usuario\n",
        "#rango\n",
        "\n",
        "band = True\n",
        "\n",
        "def vali_num(rango_min, rango_max):\n",
        "  while band:\n",
        "    try:\n",
        "      num = int(input(\"Ingresa un numero dentro del rango que proporcionaste: \\n\"))\n",
        "      if rango_min <= num <= rango_max:\n",
        "        return num\n",
        "      else:\n",
        "        print (\"Error: EL numero ingresado no esta dentro del rango proporcinado\")\n",
        "    except ValueError:\n",
        "      print (\"Error: Ingresa un numero entero valido\")\n",
        "\n",
        "\n",
        "def main():\n",
        "  band = True\n",
        "  total = []\n",
        "  while band:\n",
        "    try:\n",
        "      rango_min = int(input(\"Ingresa el numero minimo de tu rango: \\n\"))\n",
        "      rango_max = int(input(\"Ingresa el numero maximo de tu rango: \\n\"))\n",
        "    except ValueError:\n",
        "      print (\"Error: Ingresa numero valiro entero\")\n",
        "    num = vali_num(rango_min, rango_max)\n",
        "    total.append(num)\n",
        "\n",
        "    try:\n",
        "      decision = input(\"Desea seguir ingresando numeros? \")\n",
        "      if decision == 's':\n",
        "        print (\"Seguimos...\")\n",
        "        band = True\n",
        "      elif decision == 'n':\n",
        "        print (\"Salimos del programa\")\n",
        "        band = False\n",
        "      else:\n",
        "        print (\"Error: Solo ingresar 's' o 'n'\")\n",
        "    except:\n",
        "      print (\"Error: Ingresa solo caracteres\")\n",
        "\n",
        "  count = len(total)\n",
        "  average = sum(total) / count if count > 0 else 0\n",
        "\n",
        "  print(f\"\\nCantidad de números ingresados: {count}\")\n",
        "  print(f\"Promedio de los números ingresados: {average}\")\n",
        "\n",
        "\n",
        "if __name__ == \"__main__\":\n",
        "    main()\n",
        "\n",
        "\n"
      ],
      "metadata": {
        "id": "g7lxJAv1MPsT",
        "colab": {
          "base_uri": "https://localhost:8080/"
        },
        "outputId": "445f3fdc-d02a-40d4-c514-d18c4f08cb21"
      },
      "execution_count": null,
      "outputs": [
        {
          "output_type": "stream",
          "name": "stdout",
          "text": [
            "Ingresa el numero minimo de tu rango: \n",
            "1\n",
            "Ingresa el numero maximo de tu rango: \n",
            "100\n",
            "Ingresa un numero dentro del rango que proporcionaste: \n",
            "50\n",
            "Desea seguir ingresando numeros? n\n",
            "Salimos del programa\n",
            "\n",
            "Cantidad de números ingresados: 1\n",
            "Promedio de los números ingresados: 50.0\n"
          ]
        }
      ]
    },
    {
      "cell_type": "markdown",
      "source": [
        "4.- función que reciba como parámetro los valores para el área de un triángulo y retorne su resultado"
      ],
      "metadata": {
        "id": "Lciv7r875JR_"
      }
    },
    {
      "cell_type": "code",
      "source": [
        "def calcular_area_triangulo(base, altura):\n",
        "    area = (base * altura) / 2\n",
        "    return area\n",
        "\n",
        "base_triangulo = float(input(\"Ingresa la base del triangulo: \"))\n",
        "altura_triangulo = float(input(\"Ingresa la altura del triangulo: \"))\n",
        "\n",
        "area_resultante = calcular_area_triangulo(base_triangulo, altura_triangulo)\n",
        "print(f\"El área del triángulo es: {area_resultante}\")"
      ],
      "metadata": {
        "colab": {
          "base_uri": "https://localhost:8080/"
        },
        "id": "1F9X8Tyu5I1e",
        "outputId": "72bb5a7e-301c-46ec-bac3-0d94a770a825"
      },
      "execution_count": null,
      "outputs": [
        {
          "output_type": "stream",
          "name": "stdout",
          "text": [
            "Ingresa la base del triangulo: 6\n",
            "Ingresa la altura del triangulo: 4\n",
            "El área del triángulo es: 12.0\n"
          ]
        }
      ]
    },
    {
      "cell_type": "markdown",
      "source": [
        "5.- función que sirva para validar un número dentro de un rango dado."
      ],
      "metadata": {
        "id": "sLkYr1DX5LlY"
      }
    },
    {
      "cell_type": "code",
      "source": [
        "def validar_numero_en_rango(numero, rango_minimo, rango_maximo):\n",
        "    return rango_minimo <= numero <= rango_maximo\n",
        "\n",
        "numero_ingresado = float(input(\"Ingresa un numero: \"))\n",
        "minimo = float(input(\"Ingresa el valor minimo del rango: \"))\n",
        "maximo = float(input(\"Ingresa el valor máximo del rango: \"))\n",
        "\n",
        "if validar_numero_en_rango(numero_ingresado, minimo, maximo):\n",
        "    print(f\"El numero {numero_ingresado} está dentro del rango.\")\n",
        "else:\n",
        "    print(f\"El numero {numero_ingresado} está fuera del rango.\")"
      ],
      "metadata": {
        "colab": {
          "base_uri": "https://localhost:8080/"
        },
        "id": "rcShux0Y5NJo",
        "outputId": "36636395-e07d-4be2-adee-deade0308baa"
      },
      "execution_count": null,
      "outputs": [
        {
          "output_type": "stream",
          "name": "stdout",
          "text": [
            "Ingresa un numero: 9\n",
            "Ingresa el valor minimo del rango: 3\n",
            "Ingresa el valor máximo del rango: 4\n",
            "El numero 9.0 está fuera del rango.\n"
          ]
        }
      ]
    }
  ]
}