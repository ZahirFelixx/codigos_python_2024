{
  "nbformat": 4,
  "nbformat_minor": 0,
  "metadata": {
    "colab": {
      "provenance": [],
      "authorship_tag": "ABX9TyNtjh2AlnwP7bJW9ELdqn5r",
      "include_colab_link": true
    },
    "kernelspec": {
      "name": "python3",
      "display_name": "Python 3"
    },
    "language_info": {
      "name": "python"
    }
  },
  "cells": [
    {
      "cell_type": "markdown",
      "metadata": {
        "id": "view-in-github",
        "colab_type": "text"
      },
      "source": [
        "<a href=\"https://colab.research.google.com/github/ZahirFelixx/codigos_python_2024/blob/main/ACT2_FPLZ_01.ipynb\" target=\"_parent\"><img src=\"https://colab.research.google.com/assets/colab-badge.svg\" alt=\"Open In Colab\"/></a>"
      ]
    },
    {
      "cell_type": "markdown",
      "source": [
        "## ACTIVIDAD 2\n",
        "Ejercicion 1\n",
        "\n",
        "1.- Programa en Python que lea 2 números enteros, usar una condición y analizar los dos números y desplegar cual de los números es el mayor."
      ],
      "metadata": {
        "id": "FHrMGnfDdEDy"
      }
    },
    {
      "cell_type": "code",
      "source": [
        "#Felix Peraza Luis Zahir 369453\n",
        "#02/02/24\n",
        "#Programa que lea 2 números enteros y desplegar cual de los números es el mayor\n",
        "#Lector de num\n",
        "\n",
        "num1 = int(input(\"\\n Ingrese un numero: \\n\"))\n",
        "num2 = int(input(\"\\n Ingrese un numero: \\n\"))\n",
        "\n",
        "if num1 > num2:\n",
        "  print(\"El numero mayor es el \", num1)\n",
        "\n",
        "if num2 > num1:\n",
        "  print(\"El numero mayor es el\", num2)"
      ],
      "metadata": {
        "colab": {
          "base_uri": "https://localhost:8080/"
        },
        "id": "8w-v_6cRcuLM",
        "outputId": "8f235e4a-10e5-4a78-aab3-79a2c797b3cb"
      },
      "execution_count": null,
      "outputs": [
        {
          "output_type": "stream",
          "name": "stdout",
          "text": [
            "\n",
            " Ingrese un numero: \n",
            "5\n",
            "\n",
            " Ingrese un numero: \n",
            "9\n",
            "El numero mayor es el 9\n"
          ]
        }
      ]
    }
  ]
}