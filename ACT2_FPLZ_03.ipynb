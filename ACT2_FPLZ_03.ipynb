{
  "nbformat": 4,
  "nbformat_minor": 0,
  "metadata": {
    "colab": {
      "provenance": [],
      "authorship_tag": "ABX9TyPKnk/1gvrlbtWBieEVWfCT",
      "include_colab_link": true
    },
    "kernelspec": {
      "name": "python3",
      "display_name": "Python 3"
    },
    "language_info": {
      "name": "python"
    }
  },
  "cells": [
    {
      "cell_type": "markdown",
      "metadata": {
        "id": "view-in-github",
        "colab_type": "text"
      },
      "source": [
        "<a href=\"https://colab.research.google.com/github/ZahirFelixx/codigos_python_2024/blob/main/ACT2_FPLZ_03.ipynb\" target=\"_parent\"><img src=\"https://colab.research.google.com/assets/colab-badge.svg\" alt=\"Open In Colab\"/></a>"
      ]
    },
    {
      "cell_type": "markdown",
      "source": [
        "# ACTIVIDAD 2\n",
        "\n",
        "Ejercicio 3\n",
        "\n",
        "3.- Programa en PythonAlgoritmo que a través de opciones (1.- HOMBRE 2.- MUJER ) preguntar al usuario cual es su sexo y desplegar la leyenda “HOMBRE ”, “MUJER”"
      ],
      "metadata": {
        "id": "phv7A1SqsQ-m"
      }
    },
    {
      "cell_type": "code",
      "execution_count": 2,
      "metadata": {
        "id": "dxQeEfZ5sIbH",
        "colab": {
          "base_uri": "https://localhost:8080/"
        },
        "outputId": "08d8314b-4615-4d74-d1a6-e3f195626fba"
      },
      "outputs": [
        {
          "output_type": "stream",
          "name": "stdout",
          "text": [
            "Ingresa tu sexo\n",
            "\n",
            " 1.- HOMBRE 2.- MUJER \n",
            "2\n",
            "Eres mujer\n"
          ]
        }
      ],
      "source": [
        "#Felix Peraza Luis Zahir 369453\n",
        "#12/02/2024\n",
        "#Programa que te pregunte cual es tu sexo y lo imprima\n",
        "#sexologo\n",
        "\n",
        "#Entrada de datos para saber el sexo del usuario\n",
        "print (\"Ingresa tu sexo\")\n",
        "sexo =  int(input(\"\\n 1.- HOMBRE 2.- MUJER \\n\"))\n",
        "\n",
        "#condiciones simples para determinar el sexo del usuario y sus respectivas salidas de pantalla\n",
        "if sexo == 1:\n",
        "  print(\"Eres hombre\")\n",
        "\n",
        "if sexo == 2:\n",
        "  print(\"Eres mujer\")"
      ]
    }
  ]
}