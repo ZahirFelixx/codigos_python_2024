{
  "nbformat": 4,
  "nbformat_minor": 0,
  "metadata": {
    "colab": {
      "provenance": [],
      "authorship_tag": "ABX9TyMCE5VkDnl7lSj1gln0q+Ra",
      "include_colab_link": true
    },
    "kernelspec": {
      "name": "python3",
      "display_name": "Python 3"
    },
    "language_info": {
      "name": "python"
    }
  },
  "cells": [
    {
      "cell_type": "markdown",
      "metadata": {
        "id": "view-in-github",
        "colab_type": "text"
      },
      "source": [
        "<a href=\"https://colab.research.google.com/github/ZahirFelixx/codigos_python_2024/blob/main/ACT9_PY_FPLZ_441.ipynb\" target=\"_parent\"><img src=\"https://colab.research.google.com/assets/colab-badge.svg\" alt=\"Open In Colab\"/></a>"
      ]
    },
    {
      "cell_type": "markdown",
      "source": [
        "ACTIVIDAD 9\n",
        "\n",
        "\n",
        "Realiza un programa en python que utilice el siguiente menu:\n",
        "\n",
        " MENU\n",
        "\n",
        " 1.- Crear Diccionario\n",
        "\n",
        " 2.- Imprimir Diccionario\n",
        "\n",
        " 0.- Salir\n",
        "\n",
        "\n",
        "\n",
        "CREAR DICCIIONARIO: funcion que retorne un diccionario con los datos de basicos de un alumno, donde se pide {id,nombre (1 O 2) , appaterno,apmaterno, edad,sexo}, El diccionario se debe generar automaticmanete a partir de listas.\n",
        "\n",
        "\n",
        "\n",
        "IMPRIMIR DICCIONARIO:  Funcion que reciba como parametro el diccionario, y le de una salida mostrando la informacion en forma de registro que se genero con el diccionario"
      ],
      "metadata": {
        "id": "_zARM8VRn_X-"
      }
    },
    {
      "cell_type": "code",
      "execution_count": null,
      "metadata": {
        "colab": {
          "base_uri": "https://localhost:8080/"
        },
        "id": "DtOfjsNvnVii",
        "outputId": "5b2545d8-f35c-477b-a2af-f7b3204ad7b3"
      },
      "outputs": [
        {
          "output_type": "stream",
          "name": "stdout",
          "text": [
            "\n",
            "MENU\n",
            "\n",
            "1.- Crear Diccionario\n",
            "2.- Imprimir Diccionario\n",
            "0.- Salir\n",
            "Seleccione una opción: 1\n",
            "Ingrese los datos del alumno:\n",
            "ID del alumno: 369453\n",
            "Nombre del alumno: luis\n",
            "Apellido paterno del alumno: felix\n",
            "Apellido materno del alumno: peraza\n",
            "Edad del alumno: 20\n",
            "Sexo del alumno: hombre\n",
            "\n",
            "MENU\n",
            "\n",
            "1.- Crear Diccionario\n",
            "2.- Imprimir Diccionario\n",
            "0.- Salir\n",
            "Seleccione una opción: 2\n",
            "\n",
            "Registro del alumno:\n",
            "id: 369453\n",
            "nombre: luis\n",
            "appaterno: felix\n",
            "apmaterno: peraza\n",
            "edad: 20\n",
            "sexo: hombre\n",
            "\n",
            "\n",
            "MENU\n",
            "\n",
            "1.- Crear Diccionario\n",
            "2.- Imprimir Diccionario\n",
            "0.- Salir\n",
            "Seleccione una opción: 0\n",
            "Saliendo del programa...\n"
          ]
        }
      ],
      "source": [
        "#Felix Peraza Luis Zahir 369453\n",
        "#26/04/24\n",
        "#Programa que cree diccionarios con los datos basicos de un alumno\n",
        "#Talum\n",
        "\n",
        "def crear_diccionario():\n",
        "    print(\"Ingrese los datos del alumno:\")\n",
        "    alumno = {}\n",
        "    alumno[\"Matricula\"] = input(\"Matricula del alumno: \")\n",
        "    alumno[\"Nombre\"] = input(\"Nombre del alumno: \")\n",
        "    alumno[\"appaterno\"] = input(\"Apellido paterno del alumno: \")\n",
        "    alumno[\"apmaterno\"] = input(\"Apellido materno del alumno: \")\n",
        "    alumno[\"edad\"] = input(\"Edad del alumno: \")\n",
        "    alumno[\"sexo\"] = input(\"Sexo del alumno: \")\n",
        "    return alumno\n",
        "\n",
        "def imprimir_diccionario(diccionario):\n",
        "    print(\"\\nRegistro del alumno:\")\n",
        "    for clave, valor in diccionario.items():\n",
        "        print(f\"{clave}: {valor}\")\n",
        "    print()\n",
        "\n",
        "def main():\n",
        "    diccionario_alumno = {}\n",
        "    while True:\n",
        "        print(\"\\nMENU\\n\")\n",
        "        print(\"1.- Crear Diccionario\")\n",
        "        print(\"2.- Imprimir Diccionario\")\n",
        "        print(\"0.- Salir\")\n",
        "\n",
        "        opcion = input(\"Seleccione una opción: \")\n",
        "\n",
        "        if opcion == \"1\":\n",
        "            diccionario_alumno = crear_diccionario()\n",
        "        elif opcion == \"2\":\n",
        "            if diccionario_alumno:\n",
        "                imprimir_diccionario(diccionario_alumno)\n",
        "            else:\n",
        "                print(\"Primero debe crear el diccionario.\")\n",
        "        elif opcion == \"0\":\n",
        "            print(\"Saliendo del programa...\")\n",
        "            break\n",
        "        else:\n",
        "            print(\"Opción no válida. Por favor, seleccione una opción válida.\")\n",
        "\n",
        "if __name__ == \"__main__\":\n",
        "    main()\n"
      ]
    }
  ]
}