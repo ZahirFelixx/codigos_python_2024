{
  "nbformat": 4,
  "nbformat_minor": 0,
  "metadata": {
    "colab": {
      "provenance": [],
      "authorship_tag": "ABX9TyMpRdqFNNUnAKYnzQXQ3Ags",
      "include_colab_link": true
    },
    "kernelspec": {
      "name": "python3",
      "display_name": "Python 3"
    },
    "language_info": {
      "name": "python"
    }
  },
  "cells": [
    {
      "cell_type": "markdown",
      "metadata": {
        "id": "view-in-github",
        "colab_type": "text"
      },
      "source": [
        "<a href=\"https://colab.research.google.com/github/ZahirFelixx/codigos_python/blob/main/FPLZ_ACT3_06_432_CHINCHAMPUANIDADO.ipynb\" target=\"_parent\"><img src=\"https://colab.research.google.com/assets/colab-badge.svg\" alt=\"Open In Colab\"/></a>"
      ]
    },
    {
      "cell_type": "code",
      "source": [
        "import random"
      ],
      "metadata": {
        "id": "EWLfgDNrjoYf"
      },
      "execution_count": 5,
      "outputs": []
    },
    {
      "cell_type": "code",
      "execution_count": 13,
      "metadata": {
        "colab": {
          "base_uri": "https://localhost:8080/"
        },
        "id": "lBGwlM72gOxN",
        "outputId": "1fea3fa2-f738-430f-ac93-53f94882db5f"
      },
      "outputs": [
        {
          "output_type": "stream",
          "name": "stdout",
          "text": [
            "Elige entre 1-.piedra 2-.papel 3-.tijera2\n",
            "La computadora eligio:  2\n",
            "Empate\n"
          ]
        }
      ],
      "source": [
        "#Felix Peraza Luis Zahir 369453\n",
        "#02-09-2023\n",
        "#Algoritmo que sirva para el juego del CHINCHAMPU (Piedra, Papel, Tijera) para 1 jugador y la computadora\n",
        "#Chinchampuanidado\n",
        "\n",
        "jugador = int(input(\"Elige entre 1-.piedra 2-.papel 3-.tijera\"))\n",
        "\n",
        "computadora = random.randrange(1, 3)\n",
        "\n",
        "\n",
        "print(\"La computadora eligio: \",computadora)\n",
        "\n",
        "if jugador == computadora:\n",
        "    print(\"Empate\")\n",
        "\n",
        "elif jugador == 1:\n",
        "    if computadora == 2:\n",
        "        print(\"Te gano la computadora\")\n",
        "    else:\n",
        "        print(\"Tu ganaste\")\n",
        "\n",
        "elif jugador == 2:\n",
        "    if computadora == 3:\n",
        "        print(\"Te gano la computadora\")\n",
        "    else:\n",
        "        print(\"Tu ganaste\")\n",
        "\n",
        "elif jugador == 3:\n",
        "    if computadora == 1:\n",
        "        print(\"Te gano la computadora\")\n",
        "    else:\n",
        "        print(\"Tu ganaste\")\n",
        "\n",
        "else:\n",
        "    print(\"Escoge bien, menso\")\n"
      ]
    }
  ]
}