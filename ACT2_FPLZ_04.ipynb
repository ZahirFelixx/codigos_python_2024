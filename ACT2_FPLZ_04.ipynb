{
  "nbformat": 4,
  "nbformat_minor": 0,
  "metadata": {
    "colab": {
      "provenance": [],
      "authorship_tag": "ABX9TyN2HhnN+VOemf5a6rUXNLIA",
      "include_colab_link": true
    },
    "kernelspec": {
      "name": "python3",
      "display_name": "Python 3"
    },
    "language_info": {
      "name": "python"
    }
  },
  "cells": [
    {
      "cell_type": "markdown",
      "metadata": {
        "id": "view-in-github",
        "colab_type": "text"
      },
      "source": [
        "<a href=\"https://colab.research.google.com/github/ZahirFelixx/codigos_python_2024/blob/main/ACT2_FPLZ_04.ipynb\" target=\"_parent\"><img src=\"https://colab.research.google.com/assets/colab-badge.svg\" alt=\"Open In Colab\"/></a>"
      ]
    },
    {
      "cell_type": "markdown",
      "source": [
        "# ACTIVIDAD 2\n",
        "\n",
        "Ejercicio 4\n",
        "\n",
        "4.- Programa en Python que lea un número entero, y desplegar si el número es “PAR” o “IMPAR”"
      ],
      "metadata": {
        "id": "urINxe1tWrZx"
      }
    },
    {
      "cell_type": "code",
      "execution_count": 7,
      "metadata": {
        "colab": {
          "base_uri": "https://localhost:8080/"
        },
        "id": "cCFi-ry2Wp40",
        "outputId": "30992d07-07fb-4314-ca18-ee4dfb6649b5"
      },
      "outputs": [
        {
          "output_type": "stream",
          "name": "stdout",
          "text": [
            "\n",
            " Introduce un numero: \n",
            "5\n",
            "El numero es impar\n"
          ]
        }
      ],
      "source": [
        "#Felix Peraza Luis Zahir 369453\n",
        "#12/02/2024\n",
        "#programa que detecte si es par o impar\n",
        "#parimp\n",
        "\n",
        "num = int(input(\"\\n Introduce un numero: \\n\"))\n",
        "\n",
        "if num % 2 == 0:\n",
        "  print(\"El resultado es par\")\n",
        "\n",
        "if num % 2 == 1:\n",
        "  print(\"El numero es impar\")"
      ]
    }
  ]
}