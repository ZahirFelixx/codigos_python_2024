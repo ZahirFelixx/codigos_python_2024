{
  "nbformat": 4,
  "nbformat_minor": 0,
  "metadata": {
    "colab": {
      "provenance": [],
      "authorship_tag": "ABX9TyMu/7SV97y7xvVhYfRA/y9i",
      "include_colab_link": true
    },
    "kernelspec": {
      "name": "python3",
      "display_name": "Python 3"
    },
    "language_info": {
      "name": "python"
    }
  },
  "cells": [
    {
      "cell_type": "markdown",
      "metadata": {
        "id": "view-in-github",
        "colab_type": "text"
      },
      "source": [
        "<a href=\"https://colab.research.google.com/github/ZahirFelixx/codigos_python_2024/blob/main/ACT2_FPLZ_06.ipynb\" target=\"_parent\"><img src=\"https://colab.research.google.com/assets/colab-badge.svg\" alt=\"Open In Colab\"/></a>"
      ]
    },
    {
      "cell_type": "markdown",
      "source": [
        "# ACTIVIDAD 2\n",
        "\n",
        "Ejercicio 6\n",
        "\n",
        "6.- Programa en Python que lea 4 calificaciones de un alumno, calcular y desplegar el promedio acompañado de la leyenda APROBADO o REPROBADO"
      ],
      "metadata": {
        "id": "J94GlZIXf00o"
      }
    },
    {
      "cell_type": "code",
      "execution_count": 2,
      "metadata": {
        "colab": {
          "base_uri": "https://localhost:8080/"
        },
        "id": "3f7ujXkpfous",
        "outputId": "a82f148e-a239-4a9a-c8ff-57c051d5d39e"
      },
      "outputs": [
        {
          "output_type": "stream",
          "name": "stdout",
          "text": [
            "\n",
            " Introduce la calificacion del primero parcial: \n",
            "85\n",
            "\n",
            " Introduce la calificacion del segundo parcial: \n",
            "69\n",
            "]n Introduce la calificacion del tercer parcial: \n",
            "78\n",
            "\n",
            " Introduce la calificacion del cuarto parcial: \n",
            "78\n",
            "Tu promedio es aprobatorio\n",
            "77.5\n"
          ]
        }
      ],
      "source": [
        "#Felix Peraza Luis Zahir 369453\n",
        "#12/02/2024\n",
        "#programa que me de un aprobado reprobado con condiciones compuestas\n",
        "#promcompuestp\n",
        "\n",
        "#Entrada de datos para saber la calificaion de cada parcial\n",
        "calf1 = float(input(\"\\n Introduce la calificacion del primero parcial: \\n\"))\n",
        "calf2 = float(input(\"\\n Introduce la calificacion del segundo parcial: \\n\"))\n",
        "calf3 = float(input(\"]n Introduce la calificacion del tercer parcial: \\n\"))\n",
        "calf4 = float(input(\"\\n Introduce la calificacion del cuarto parcial: \\n\"))\n",
        "\n",
        "#calculo para determinar el promedio\n",
        "prom = 0\n",
        "prom = (calf1 + calf2 + calf3 + calf4) /4\n",
        "\n",
        "#condiciones compuestas para determinar la situcacion academica del usuario\n",
        "if prom >= 60:\n",
        "  print(\"Tu promedio es aprobatorio\")\n",
        "else:\n",
        "  print(\"Tu promedio es reprobatorio\")\n",
        "\n",
        "print(prom)"
      ]
    }
  ]
}