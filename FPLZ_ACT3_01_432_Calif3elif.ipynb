{
  "nbformat": 4,
  "nbformat_minor": 0,
  "metadata": {
    "colab": {
      "provenance": [],
      "authorship_tag": "ABX9TyNHHSnlipFiL++Ea8SdxQXV",
      "include_colab_link": true
    },
    "kernelspec": {
      "name": "python3",
      "display_name": "Python 3"
    },
    "language_info": {
      "name": "python"
    }
  },
  "cells": [
    {
      "cell_type": "markdown",
      "metadata": {
        "id": "view-in-github",
        "colab_type": "text"
      },
      "source": [
        "<a href=\"https://colab.research.google.com/github/ZahirFelixx/codigos_python/blob/main/FPLZ_ACT3_01_432_Calif3elif.ipynb\" target=\"_parent\"><img src=\"https://colab.research.google.com/assets/colab-badge.svg\" alt=\"Open In Colab\"/></a>"
      ]
    },
    {
      "cell_type": "code",
      "source": [
        "#Felix Peraza Luis Zahir 369453\n",
        "#Fecha: 28-08-2023\n",
        "#Programa que lee 3 calificaciones y te dice si estas reporbado o aprobado\n",
        "#Calificacion_3_elif\n",
        "\n",
        "calf1 = float(input(\"Ingrese la calificacion del primer parcial :\"))\n",
        "calf2 = float(input(\"Ingrese la calificacion del segundo parcial: \"))\n",
        "calf3 = float(input(\"Ingrese la calificacion del tercer parcial : \"))\n",
        "\n",
        "prom = (calf1 + calf2 + calf3) / 3\n",
        "\n",
        "if prom < 30:\n",
        "    print(\"Debes repetir curso\")\n",
        "elif prom < 60:\n",
        "        print(\"Debes hacer Extraordinario\")\n",
        "elif prom < 70:\n",
        "        print(\"Promedio suficiente\")\n",
        "elif prom < 80:\n",
        "        print(\"Promedio regular\")\n",
        "elif prom < 90:\n",
        "        print(\"Promedio bueno\")\n",
        "elif prom < 98:\n",
        "        print(\"Promedio muy bueno\")\n",
        "elif prom <= 100:\n",
        "        print(\"Promedio excelente\")\n",
        "else:\n",
        "        print(\"Error en promedio, favor de verificar...\")\n",
        "\n",
        "print(f\"Tu promedio es de: \", prom)"
      ],
      "metadata": {
        "colab": {
          "base_uri": "https://localhost:8080/"
        },
        "id": "GaVzdQklBRiT",
        "outputId": "58aec2b9-bcfd-401c-f6eb-164051f3990e"
      },
      "execution_count": 11,
      "outputs": [
        {
          "output_type": "stream",
          "name": "stdout",
          "text": [
            "Ingrese la calificacion del primer parcial :75\n",
            "Ingrese la calificacion del segundo parcial: 85\n",
            "Ingrese la calificacion del tercer parcial : 75\n",
            "Promedio regular\n",
            "Tu promedio es de:  78.33333333333333\n"
          ]
        }
      ]
    }
  ]
}