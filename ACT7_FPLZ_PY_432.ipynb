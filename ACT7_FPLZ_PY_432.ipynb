{
  "nbformat": 4,
  "nbformat_minor": 0,
  "metadata": {
    "colab": {
      "provenance": [],
      "authorship_tag": "ABX9TyP6rCnyQydY0vtajgtUoxM3",
      "include_colab_link": true
    },
    "kernelspec": {
      "name": "python3",
      "display_name": "Python 3"
    },
    "language_info": {
      "name": "python"
    }
  },
  "cells": [
    {
      "cell_type": "markdown",
      "metadata": {
        "id": "view-in-github",
        "colab_type": "text"
      },
      "source": [
        "<a href=\"https://colab.research.google.com/github/ZahirFelixx/codigos_python_2024/blob/main/ACT7_FPLZ_PY_432.ipynb\" target=\"_parent\"><img src=\"https://colab.research.google.com/assets/colab-badge.svg\" alt=\"Open In Colab\"/></a>"
      ]
    },
    {
      "cell_type": "markdown",
      "source": [
        "# ACTIVIDAD 7\n",
        "\n",
        "## Listas\n",
        "\n",
        "1.- Función que utilice una lista con los nombres de tus mascotas, o artistas favoritos, (minimo 5, maximo 10) imprimir las cadenas y la cantidad de caracteres de cada cadena.  \n",
        "\n",
        "EJEMPLO SALIDA:\n",
        "\n",
        "[0]SCARLETT --> 8 CARACTERES\n",
        "\n",
        "[1]GATINA --> 6 CARACTERES\n",
        "\n",
        "[2]PELUSA --> 6 CARACTERES\n",
        "\n",
        "[3]PELUSINA --> 8 CARACTERES\n",
        "\n",
        "[4]MILO --> 4 CARACTERES\n",
        "\n",
        "[5]KHALIFA --> 7 CARACTERES"
      ],
      "metadata": {
        "id": "fpbPjqpw1dzt"
      }
    },
    {
      "cell_type": "code",
      "execution_count": null,
      "metadata": {
        "colab": {
          "base_uri": "https://localhost:8080/"
        },
        "id": "RZ4JIg49zUzx",
        "outputId": "870baa3b-38e1-482a-9126-e12addede052"
      },
      "outputs": [
        {
          "output_type": "stream",
          "name": "stdout",
          "text": [
            "[0] [LUIS] --> 4 CARACTERES\n",
            "[1] [SINA] --> 4 CARACTERES\n",
            "[2] [MILO] --> 4 CARACTERES\n",
            "[3] [ODIE] --> 4 CARACTERES\n",
            "[4] [LOLITO] --> 6 CARACTERES\n",
            "[5] [ATOM] --> 4 CARACTERES\n",
            "[6] [ZOPILOTE] --> 8 CARACTERES\n",
            "[7] [HUAWINO] --> 7 CARACTERES\n",
            "[8] [PELOS] --> 5 CARACTERES\n",
            "[9] [SINO] --> 4 CARACTERES\n"
          ]
        }
      ],
      "source": [
        "#Felix Peraza Luis Zahir 369453\n",
        "#5/04/24\n",
        "#Función que utilice una lista con los nombres de tus mascotas, o artistas favoritos, (minimo 5, maximo 10) imprimir las cadenas y la cantidad de caracteres de cada cadena.\n",
        "#Mas_Cotitas\n",
        "\n",
        "def imp_lista (nombres):\n",
        "  for i, nombres in enumerate(nombres):\n",
        "    print(f\"[{i}] [{nombres.upper()}] --> {len(nombres)} CARACTERES\")\n",
        "\n",
        "nombres = ['Luis', 'Sina', 'Milo', 'Odie', 'Lolito','Atom', 'Zopilote', 'Huawino', 'Pelos', 'Sino']\n",
        "imp_lista(nombres)\n"
      ]
    },
    {
      "cell_type": "markdown",
      "source": [
        "2.- Programa que utilice 2 funciones,\n",
        "\n",
        "Función que genere y regrese una lista con 10 números aleatorios entre el 30 y 50 (no repetidos).\n",
        "\n",
        "Función que reciba una lista , Imprimir la lista (Indice y Valor )\n"
      ],
      "metadata": {
        "id": "CuXPucRT49ph"
      }
    },
    {
      "cell_type": "code",
      "source": [
        "#Felix Peraza Luis Zahir 369453\n",
        "#05/04/24\n",
        "#Funcion que genera y regresa una lista con 10 numeros aleatorios entre el 30 y 50(No repetidos)\n",
        "#lista_No_Rep\n",
        "\n",
        "import random\n",
        "\n",
        "def random_lista():\n",
        "  numeros_rand = random.sample(range(30,51),10)\n",
        "  return numeros_rand\n",
        "\n",
        "def imp_lista(lista):\n",
        "  for i, valor in enumerate(lista):\n",
        "    print(f\"[{i}]{valor}  \")\n",
        "\n",
        "numeros_rand = random_lista()\n",
        "imp_lista(numeros_rand)\n"
      ],
      "metadata": {
        "colab": {
          "base_uri": "https://localhost:8080/"
        },
        "id": "d1EiPu655B5u",
        "outputId": "632857bb-fefb-4ac3-98c0-776fc534ac8c"
      },
      "execution_count": null,
      "outputs": [
        {
          "output_type": "stream",
          "name": "stdout",
          "text": [
            "[0]30  \n",
            "[1]38  \n",
            "[2]31  \n",
            "[3]39  \n",
            "[4]46  \n",
            "[5]50  \n",
            "[6]48  \n",
            "[7]37  \n",
            "[8]45  \n",
            "[9]36  \n"
          ]
        }
      ]
    },
    {
      "cell_type": "markdown",
      "source": [
        "3.- Escribe una función que reciba dos listas de números del mismo tamaño y calcule la suma de los elementos correspondientes de cada lista. (regresar una nueva lista) . Luego, muestra una lista con los resultados de cada suma. Nota: si las listas no son del mismo tamaño mandar msge y utilizar el tamaño de la lista mas pequeña)\n",
        "\n"
      ],
      "metadata": {
        "id": "cP_3ktKR7gwN"
      }
    },
    {
      "cell_type": "code",
      "source": [
        "1#Felix Peraza Luis Zahir 369453\n",
        "#05/04/24\n",
        "#Funcion que reciba dos listas de numeros del mismo tamano y calcule la suma de los elementos correspondientes de cada lista\n",
        "#Sum_list\n",
        "\n",
        "def suma_list(lista1,lista2):\n",
        "  if len(lista1) != len(lista2):\n",
        "    print(\"Las listas no son del mismo tamano, se usara la lista de menor valor :)\")\n",
        "\n",
        "  longitud_min = min(len(lista1), len(lista2))\n",
        "  sum_total = []\n",
        "\n",
        "  for i in range(longitud_min):\n",
        "    sum_total.append(lista1[i] + lista2[i])\n",
        "\n",
        "  return sum_total\n",
        "\n",
        "def solicitar_num(msge):\n",
        "    while True:\n",
        "        try:\n",
        "            num = int(input(msge))\n",
        "            return num\n",
        "        except ValueError:\n",
        "            print(\"Error: Solo se permiten numeros\")\n",
        "\n",
        "def llena_list():\n",
        "  lista = []\n",
        "  n = solicitar_num(\"Ingresa la cantidad de numeros de la lista: \\n\")\n",
        "  print(\"Ingrese los numeros de la lista:\")\n",
        "  for i in range(n):\n",
        "    numeros = int(input(f\"Numeros {i+1}: \"))\n",
        "    lista.append(numeros)\n",
        "  return lista\n",
        "\n",
        "print(\"Lista 1: \")\n",
        "lista1 = llena_list()\n",
        "print(\"Lista 2: \")\n",
        "lista2 = llena_list()\n",
        "\n",
        "\n",
        "resultados = suma_list(lista1, lista2)\n",
        "print(\"El resultado de la suma de las listas es: \")\n",
        "print(resultados)"
      ],
      "metadata": {
        "id": "dAJMDO7v7hTh",
        "colab": {
          "base_uri": "https://localhost:8080/"
        },
        "outputId": "81e3ccfb-0e01-431a-c8a1-436dd74b06d6"
      },
      "execution_count": 9,
      "outputs": [
        {
          "output_type": "stream",
          "name": "stdout",
          "text": [
            "Lista 1: \n",
            "Ingresa la cantidad de numeros de la lista: \n",
            "3\n",
            "Ingrese los numeros de la lista:\n",
            "Numeros 1: 2\n",
            "Numeros 2: 4\n",
            "Numeros 3: 5\n",
            "Lista 2: \n",
            "Ingresa la cantidad de numeros de la lista: \n",
            "2\n",
            "Ingrese los numeros de la lista:\n",
            "Numeros 1: 6\n",
            "Numeros 2: 3\n",
            "Las listas no son del mismo tamano, se usara la lista de menor valor :)\n",
            "El resultado de la suma de las listas es: \n",
            "[8, 7]\n"
          ]
        }
      ]
    },
    {
      "cell_type": "markdown",
      "source": [
        "4.- Escribe una función llamada eliminar_duplicados que reciba una lista como parámetro y elimine los elementos duplicados. El resultado debe ser una nueva lista sin duplicados. Pide al usuario que ingrese una lista y luego llama a la función eliminar_duplicados para mostrar la lista sin duplicados. (Solo Numeros enteros, validar)"
      ],
      "metadata": {
        "id": "BARGIwXcPmfG"
      }
    },
    {
      "cell_type": "code",
      "source": [
        "#Felix Peraza Luis Zahir 369453\n",
        "#06/04/24\n",
        "#Funcion que elimine duplicados de una lista\n",
        "#eliminaduplicados\n",
        "\n",
        "def solicitar_num(msge):\n",
        "  while True:\n",
        "    try:\n",
        "        num = int(input(msge))\n",
        "        return num\n",
        "    except ValueError:\n",
        "        print(\"Error: Solo se permiten numeros\")\n",
        "\n",
        "def llena_list():\n",
        "  lista = []\n",
        "  n = solicitar_num(\"Ingresa la cantidad de numeros de la lista: \\n\")\n",
        "  print(\"Ingrese los numeros de la lista:\")\n",
        "  for i in range(n):\n",
        "    numeros = int(input(f\"Numeros {i+1}: \"))\n",
        "    lista.append(numeros)\n",
        "  return lista\n",
        "\n",
        "def delet_duplicados(lista):\n",
        "  lista_sin_dupli = []\n",
        "  for elementos in lista:\n",
        "    if elementos not in lista_sin_dupli:\n",
        "      lista_sin_dupli.append(elementos)\n",
        "  return lista_sin_dupli\n",
        "\n",
        "lista_ingresada = llena_list()\n",
        "lista_sin_duplicados = delet_duplicados(lista_ingresada)\n",
        "print(\"Lista sin duplicados:\", lista_sin_duplicados)"
      ],
      "metadata": {
        "colab": {
          "base_uri": "https://localhost:8080/"
        },
        "id": "NTAOSCuAPnbz",
        "outputId": "e6cb5c93-bc59-4783-d10d-9abade7fde5a"
      },
      "execution_count": 6,
      "outputs": [
        {
          "output_type": "stream",
          "name": "stdout",
          "text": [
            "Ingresa la cantidad de numeros de la lista: \n",
            "hol\n",
            "Error: Solo se permiten numeros\n",
            "Ingresa la cantidad de numeros de la lista: \n",
            "ol\n",
            "Error: Solo se permiten numeros\n",
            "Ingresa la cantidad de numeros de la lista: \n",
            "2\n",
            "Ingrese los numeros de la lista:\n",
            "Numeros 1: 3\n",
            "Numeros 2: 3\n",
            "Lista sin duplicados: [3]\n"
          ]
        }
      ]
    },
    {
      "cell_type": "markdown",
      "source": [
        "5.- Escribe una función que calcule la media y la mediana de una lista de números enteros.\n",
        "\n",
        "La media es la suma de todos los elementos y dividido entre la cantidad de elementos\n",
        "\n",
        "La mediana es el valor que queda en la mitad de la lista cuando se ordena de forma ascendente. Si la lista tiene un número par de elementos, la mediana se calcula como el promedio de los dos valores centrales. Puedes utilizar el método sort() para ordenar la lista y luego calcular la mediana según el tamaño de la lista."
      ],
      "metadata": {
        "id": "ppE9azetT3KG"
      }
    },
    {
      "cell_type": "code",
      "source": [
        "#Felix Peraza Luis Zahir 369453\n",
        "#05/04/24\n",
        "#Funcion que calcule media y mediana para una lista de numeros enteros\n",
        "#funcmed\n",
        "\n",
        "def calc_media(lista):\n",
        "  suma = sum(lista)\n",
        "  media = suma / len(lista)\n",
        "  return media\n",
        "\n",
        "def calc_mediana(lista):\n",
        "  lista_ord = sorted(lista)\n",
        "  n = len(lista_ord)\n",
        "  if n % 2 == 0:\n",
        "    mediana = (lista_ord[n//2 - 1] + lista_ord[n//2]) / 2\n",
        "  else:\n",
        "    mediana = lista_ord[n//2]\n",
        "  return mediana\n",
        "\n",
        "def solicitar_num(msge):\n",
        "  while True:\n",
        "    try:\n",
        "        num = int(input(msge))\n",
        "        return num\n",
        "    except ValueError:\n",
        "        print(\"Error: Solo se permiten numeros\")\n",
        "\n",
        "def llena_list():\n",
        "  lista = []\n",
        "  n = solicitar_num(\"Ingresa la cantidad de numeros de la lista: \\n\")\n",
        "  print(\"Ingrese los numeros de la lista:\")\n",
        "  for i in range(n):\n",
        "    numeros = int(input(f\"Numeros {i+1}: \"))\n",
        "    lista.append(numeros)\n",
        "  return lista\n",
        "\n",
        "lista_ingresada = llena_list()\n",
        "\n",
        "media = calc_media(lista_ingresada)\n",
        "mediana = calc_mediana(lista_ingresada)\n",
        "\n",
        "print(\"Lista ingresada:\", lista_ingresada)\n",
        "print(\"Media:\", media)\n",
        "print(\"Mediana:\", mediana)"
      ],
      "metadata": {
        "colab": {
          "base_uri": "https://localhost:8080/"
        },
        "id": "G-vHP3ZpXuad",
        "outputId": "455a6dac-773c-4bb9-b7b8-5f60159e7c3f"
      },
      "execution_count": 8,
      "outputs": [
        {
          "output_type": "stream",
          "name": "stdout",
          "text": [
            "Ingresa la cantidad de numeros de la lista: \n",
            "6\n",
            "Ingrese los numeros de la lista:\n",
            "Numeros 1: 1\n",
            "Numeros 2: 2\n",
            "Numeros 3: 2\n",
            "Numeros 4: 3\n",
            "Numeros 5: 4\n",
            "Numeros 6: 5\n",
            "Lista ingresada: [1, 2, 2, 3, 4, 5]\n",
            "Media: 2.8333333333333335\n",
            "Mediana: 2.5\n"
          ]
        }
      ]
    }
  ]
}