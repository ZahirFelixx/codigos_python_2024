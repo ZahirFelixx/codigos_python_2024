{
  "nbformat": 4,
  "nbformat_minor": 0,
  "metadata": {
    "colab": {
      "provenance": [],
      "authorship_tag": "ABX9TyO/4FJiUjU6homgwNak/VR7",
      "include_colab_link": true
    },
    "kernelspec": {
      "name": "python3",
      "display_name": "Python 3"
    },
    "language_info": {
      "name": "python"
    }
  },
  "cells": [
    {
      "cell_type": "markdown",
      "metadata": {
        "id": "view-in-github",
        "colab_type": "text"
      },
      "source": [
        "<a href=\"https://colab.research.google.com/github/ZahirFelixx/codigos_python_2024/blob/main/Examen_py_432.ipynb\" target=\"_parent\"><img src=\"https://colab.research.google.com/assets/colab-badge.svg\" alt=\"Open In Colab\"/></a>"
      ]
    },
    {
      "cell_type": "code",
      "execution_count": null,
      "metadata": {
        "id": "LOGnQvac9Jq0"
      },
      "outputs": [],
      "source": [
        "#Felix Peraza Luis Zahir 369453\n",
        "#27/05/24\n",
        "#funcion que retorne un numero dentro de un rango dado, validar el numero que cumpla el requisito del rango, la funcion debera validar que el programa no marque error por introducir informacion erronea (usar try except)\n",
        "#Examen"
      ]
    },
    {
      "cell_type": "code",
      "source": [
        "def num_range_dado(start,finish):\n",
        "    while True:\n",
        "      try:\n",
        "          num = int(input(f\"Ingrese un numero entre {start} y {finish}: \"))\n",
        "          if start <= num <= finish:\n",
        "            return num\n",
        "          else:\n",
        "            print(\"ERROR: El numero no esta dentro del rango especificado\")\n",
        "      except ValueError:\n",
        "        print(\"ERROR:ingrese un numero entero valido\")\n",
        "\n",
        "start = 1\n",
        "finish = 100\n",
        "\n",
        "result = num_range_dado(start,finish)\n",
        "print(f\"El numero es: {result}\")"
      ],
      "metadata": {
        "colab": {
          "base_uri": "https://localhost:8080/"
        },
        "id": "zUu7LR_s9kUk",
        "outputId": "79acedcf-6f61-4be0-c0d8-e023f638c82c"
      },
      "execution_count": 18,
      "outputs": [
        {
          "output_type": "stream",
          "name": "stdout",
          "text": [
            "Ingrese un numero entre 1 y 100: 56\n",
            "El numero es: 56\n"
          ]
        }
      ]
    },
    {
      "cell_type": "markdown",
      "source": [
        "Felix Peraza Luis Zahir 369453\n",
        "\n",
        "27/05/24\n",
        "\n",
        "Escribe en google collaboratory una funcion de Python que realice lo siguiente:\n",
        "\n",
        "funcion que retorne el resultado del area de un triangulo\n",
        "\n",
        "Escribir codigo que mande llamar la funcion y desplegar el resultado,\n",
        "\n",
        "Pedir al usuario los datos de entrada y VALIDAR da tos entrada\n",
        "\n",
        "Examen\n",
        "\n"
      ],
      "metadata": {
        "id": "CXZo5QjfAyHy"
      }
    },
    {
      "cell_type": "code",
      "source": [
        "#Felix Peraza Luis Zahir 369453\n",
        "#27/05/24\n",
        "#Programa que saque el area de un triangulo y despliguegue el resultado\n",
        "#Examen"
      ],
      "metadata": {
        "id": "snO43UsiBN5V"
      },
      "execution_count": null,
      "outputs": []
    },
    {
      "cell_type": "code",
      "source": [
        "\n",
        "def area_triangular(base, altura):\n",
        "    while True:\n",
        "      if base <= 0 or altura <= 0:\n",
        "          raise ValueError(\"ERROR: Los valores deben de ser mayores a 0\")\n",
        "      return (base * altura) / 2\n",
        "\n",
        "def ask_datos():\n",
        "\n",
        "    while True:\n",
        "        try:\n",
        "            base = float(input(\"Ingrese la base de su triangulo: \"))\n",
        "            altura = float(input(\"Ingrese la altura de su triángulo: \"))\n",
        "            if base <= 0 or altura <= 0:\n",
        "                raise ValueError(\"La base y la altura deben ser mayores que cero.\")\n",
        "            break\n",
        "        except ValueError as e:\n",
        "            print(\"Error:\", e)\n",
        "    return base, altura\n",
        "\n",
        "try:\n",
        "    base, altura = ask_datos()\n",
        "    area = area_triangular(base, altura)\n",
        "    print(\"El área del triángulo es:\", area)\n",
        "except ValueError as e:\n",
        "    print(\"Error:\", e)"
      ],
      "metadata": {
        "colab": {
          "base_uri": "https://localhost:8080/"
        },
        "collapsed": true,
        "id": "Nv97s0TXBozj",
        "outputId": "769bbc97-4c78-4a58-d1a0-586644f516c4"
      },
      "execution_count": 19,
      "outputs": [
        {
          "output_type": "stream",
          "name": "stdout",
          "text": [
            "Ingrese la base de su triangulo: lol\n",
            "Error: could not convert string to float: 'lol'\n",
            "Ingrese la base de su triangulo: .\n",
            "Error: could not convert string to float: '.'\n",
            "Ingrese la base de su triangulo: 25\n",
            "Ingrese la altura de su triángulo: 5\n",
            "El área del triángulo es: 62.5\n"
          ]
        }
      ]
    }
  ]
}