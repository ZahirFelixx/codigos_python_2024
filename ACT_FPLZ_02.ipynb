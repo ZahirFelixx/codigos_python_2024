{
  "nbformat": 4,
  "nbformat_minor": 0,
  "metadata": {
    "colab": {
      "provenance": [],
      "authorship_tag": "ABX9TyOJwSVNLV/HPvkpx7H/OPmt",
      "include_colab_link": true
    },
    "kernelspec": {
      "name": "python3",
      "display_name": "Python 3"
    },
    "language_info": {
      "name": "python"
    }
  },
  "cells": [
    {
      "cell_type": "markdown",
      "metadata": {
        "id": "view-in-github",
        "colab_type": "text"
      },
      "source": [
        "<a href=\"https://colab.research.google.com/github/ZahirFelixx/codigos_python_2024/blob/main/ACT_FPLZ_02.ipynb\" target=\"_parent\"><img src=\"https://colab.research.google.com/assets/colab-badge.svg\" alt=\"Open In Colab\"/></a>"
      ]
    },
    {
      "cell_type": "markdown",
      "source": [
        "# ACTIVIDAD 2\n",
        "\n",
        "Ejercicio 2\n",
        "\n",
        "2.- Programa en PythonAlgoritmo que lea 4 calificaciones de un alumno, calcular y desplegar el promedio acompañado de la leyenda \"APROBADO\" o \"REPROBADO\""
      ],
      "metadata": {
        "id": "QqNF6WSdjgN5"
      }
    },
    {
      "cell_type": "code",
      "execution_count": null,
      "metadata": {
        "id": "aPaiNfrwjW-V"
      },
      "outputs": [],
      "source": [
        "#Felix Peraza Luis Zahir 369453\n",
        "#12/02/2024\n",
        "#Programa que lea 4 calificaciones de un alumno y determinar si aprobo o reprobo\n",
        "#Promedio\n",
        "\n",
        "#Entrada de datos, las 4 calificaciones\n",
        "calf1 = float(input(\"\\n Ingresa tu calificacion del primer parcial: \\n\"))\n",
        "calf2 = float(input(\"\\n Ingresa tu calificaion del segundo parcial: \\n\"))\n",
        "calf3 = float(input(\"\\n Ingresa tu calificacoin del tercer parcial: \\n\"))\n",
        "calf4 = float(input(\"\\n Ingresa tu calificacin del cuarto parcial: \\n\"))\n",
        "\n",
        "#calculo del promedio\n",
        "prom = 0\n",
        "prom = (calf1 + calf2 + calf3 + calf4) / 4\n",
        "\n",
        "#condicion simple para determinar promedios aprobatorios\n",
        "if prom >= 60:\n",
        "  print(\"¡Felicidades, haz aprobado!\")\n",
        "\n",
        "if prom < 60:\n",
        "  print(\"¡MUY MAL!, haz reprobado\")\n",
        "\n",
        "#Salida del promedio\n",
        "print(\"Tu promedio es de\" , prom)"
      ]
    }
  ]
}