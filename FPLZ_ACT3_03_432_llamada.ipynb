{
  "nbformat": 4,
  "nbformat_minor": 0,
  "metadata": {
    "colab": {
      "provenance": [],
      "authorship_tag": "ABX9TyP7lOLAPwAvVUsmXdFIZfdn",
      "include_colab_link": true
    },
    "kernelspec": {
      "name": "python3",
      "display_name": "Python 3"
    },
    "language_info": {
      "name": "python"
    }
  },
  "cells": [
    {
      "cell_type": "markdown",
      "metadata": {
        "id": "view-in-github",
        "colab_type": "text"
      },
      "source": [
        "<a href=\"https://colab.research.google.com/github/ZahirFelixx/codigos_python/blob/main/FPLZ_ACT3_03_432_llamada.ipynb\" target=\"_parent\"><img src=\"https://colab.research.google.com/assets/colab-badge.svg\" alt=\"Open In Colab\"/></a>"
      ]
    },
    {
      "cell_type": "markdown",
      "source": [
        "3.- Algoritmo que sirva para desplegar el Total de una llamada telefónica donde se pide como datos de entrada los minutos y el tipo de llamada, se cobra de la siguiente manera:\n",
        "\n",
        "1.- Llamada Local $3.00 sin límite de tiempo\n",
        "\n",
        "2.- Llamada Nacional $7.00 por los 3 primeros minutos y $2.00 minuto adicional\n",
        "\n",
        "3.- Llamada Internacional $9.00 por los 2 primeros minutos y $4.00 minuto adicional\n",
        "\n",
        " Desplegar, Subtotal,Iva (16%) y Total.\n",
        "\n",
        " Ejercicio 3"
      ],
      "metadata": {
        "id": "KZl0l4imIBAf"
      }
    },
    {
      "cell_type": "code",
      "source": [
        "#Felix Peraza Luis Zahir 369453\n",
        "#Fecha: 28-08-2023\n",
        "#Programa que lee el total de minutos de una llamada y determina el tipo de llamada\n",
        "#Cell_Tell\n",
        "\n",
        "min = float(input(\"Ingrese la cantidad de minutos: \"))\n",
        "print(\"1-.Llamada Local\")\n",
        "print(\"2-.Llamada Nacional\")\n",
        "print(\"3-.Llamada Internacional\")\n",
        "llamadatip = int(input(\"Ingresa el tipo de llamada: \"))\n",
        "\n",
        "if llamadatip == 1:\n",
        "    precio = 3\n",
        "\n",
        "if llamadatip == 2:\n",
        "    precio = float(7 + max(0, min - 3) * 2) #max() devuelve el elemento con el valor más alto, o el elemento con el valor más alto en un iterable\n",
        "\n",
        "if llamadatip == 3:\n",
        "    precio = float(9 + max(0, min - 2) * 4)\n",
        "\n",
        "subtotal = precio\n",
        "iva = subtotal * 0.16\n",
        "preico = subtotal + iva\n",
        "\n",
        "print(\"El precio total con iva es: \", precio)\n",
        "\n",
        "\n",
        "\n",
        "\n",
        "\n"
      ],
      "metadata": {
        "colab": {
          "base_uri": "https://localhost:8080/"
        },
        "id": "EkzMMIsKHzJr",
        "outputId": "0f58c9f1-6891-4b38-888f-ff05e508bc5b"
      },
      "execution_count": 8,
      "outputs": [
        {
          "output_type": "stream",
          "name": "stdout",
          "text": [
            "Ingrese la cantidad de minutos: 5\n",
            "1-.Llamada Local\n",
            "2-.Llamada Nacional\n",
            "3-.Llamada Internacional\n",
            "Ingresa el tipo de llamada: 3\n",
            "El precio total con iva es:  21.0\n"
          ]
        }
      ]
    }
  ]
}