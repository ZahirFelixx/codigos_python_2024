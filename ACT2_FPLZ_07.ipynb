{
  "nbformat": 4,
  "nbformat_minor": 0,
  "metadata": {
    "colab": {
      "provenance": [],
      "authorship_tag": "ABX9TyM6dwkUp62ua0xfrlMMk2Fy",
      "include_colab_link": true
    },
    "kernelspec": {
      "name": "python3",
      "display_name": "Python 3"
    },
    "language_info": {
      "name": "python"
    }
  },
  "cells": [
    {
      "cell_type": "markdown",
      "metadata": {
        "id": "view-in-github",
        "colab_type": "text"
      },
      "source": [
        "<a href=\"https://colab.research.google.com/github/ZahirFelixx/codigos_python_2024/blob/main/ACT2_FPLZ_07.ipynb\" target=\"_parent\"><img src=\"https://colab.research.google.com/assets/colab-badge.svg\" alt=\"Open In Colab\"/></a>"
      ]
    },
    {
      "cell_type": "markdown",
      "source": [
        "# ACTIVIDAD 2\n",
        "\n",
        "Ejercicio 7\n",
        "\n",
        "7.- Programa en Python que a través de opciones (1.- HOMBRE 2.- MUJER ) preguntar al usuario cual es su sexo y desplegar la leyenda “HOMBRE ”, “MUJER”"
      ],
      "metadata": {
        "id": "tuA-_OM4iJwC"
      }
    },
    {
      "cell_type": "code",
      "execution_count": 1,
      "metadata": {
        "id": "0DUeD-5KiEGt",
        "colab": {
          "base_uri": "https://localhost:8080/"
        },
        "outputId": "ac5fc450-9311-49e6-e1e9-db4073a6bd0c"
      },
      "outputs": [
        {
          "output_type": "stream",
          "name": "stdout",
          "text": [
            " \n",
            " Ingresa tu sexo 1.- HOMBRE 2.- MUJER \n",
            "2\n",
            "Eres mujer\n"
          ]
        }
      ],
      "source": [
        "#Felix Peraza Luis Zahir 369453\n",
        "#12/02/2024\n",
        "#programa que determine si eres hombre o mujer con condiciones compuestas\n",
        "#sexologia_compuesta\n",
        "\n",
        "sexo = int(input(\" \\n Ingresa tu sexo 1.- HOMBRE 2.- MUJER \\n\"))\n",
        "\n",
        "if sexo == 1:\n",
        "  print(\"Eres hombre\")\n",
        "\n",
        "elif sexo == 2:\n",
        "  print(\"Eres mujer\")\n",
        "\n"
      ]
    }
  ]
}